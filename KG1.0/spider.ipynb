{
 "cells": [
  {
   "cell_type": "code",
   "execution_count": null,
   "metadata": {},
   "outputs": [],
   "source": [
    "import sys\n",
    "sys.path.append('/opt/miniconda3/lib/python3.7/site-packages')\n",
    "from urllib.request import urlopen\n",
    "import urllib\n",
    "from urllib.error import HTTPError\n",
    "from bs4 import BeautifulSoup\n",
    "import re\n",
    "import os\n",
    "import pandas as pd\n",
    "import numpy as np\n",
    "from selenium import webdriver\n",
    "from time import sleep"
   ]
  },
  {
   "cell_type": "code",
   "execution_count": null,
   "metadata": {
    "tags": []
   },
   "outputs": [],
   "source": [
    "colName = ['品牌', '行业','LOGO', '链接']\n",
    "df = pd.DataFrame(columns=colName)\n",
    "\n",
    "# 爬取品牌及行业信息\n",
    "driver = webdriver.Chrome()\n",
    "driver.get(\"https://www.digitaling.com/dindex/brand\")\n",
    "\n",
    "driver.find_element_by_class_name('travel').click()\n",
    "driver.implicitly_wait(10) # 隐形等待\n",
    "# 添加品牌信息\n",
    "names = driver.find_elements_by_xpath(\"//span[@class='name']\")\n",
    "logos = driver.find_elements_by_xpath(\"//div[@class='daoy_company']/a/img\")\n",
    "product = \"航旅\"\n",
    "links = driver.find_elements_by_xpath(\"//div[@class='daoy_company']/a\")\n",
    "\n",
    "for i in range(0,100):\n",
    "    name = names[i].text\n",
    "    logo = logos[i].get_attribute(\"src\")\n",
    "    link = links[i].get_attribute(\"href\")\n",
    "    print(name,logo,link)\n",
    "    df.loc[i] = [name,product,logo,link]\n",
    "df.to_csv('travel.csv',encoding='utf-8')\n",
    "\n",
    "driver.close()"
   ]
  },
  {
   "cell_type": "code",
   "execution_count": null,
   "metadata": {},
   "outputs": [],
   "source": [
    "# 数据整合\n",
    "car = pd.read_csv('data/merge/car.csv')\n",
    "cloth = pd.read_csv('data/merge/cloth.csv')\n",
    "cosmetic = pd.read_csv('data/merge/cosmetic.csv')\n",
    "digital = pd.read_csv('data/merge/digital.csv')\n",
    "entertain = pd.read_csv('data/merge/entertain.csv')\n",
    "financial = pd.read_csv('data/merge/financial.csv')\n",
    "food = pd.read_csv('data/merge/food.csv')\n",
    "luxury = pd.read_csv('data/merge/luxury.csv')\n",
    "sall = pd.read_csv('data/merge/sall.csv')\n",
    "sport = pd.read_csv('data/merge/sport.csv')\n",
    "travel = pd.read_csv('data/merge/travel.csv')\n",
    "web = pd.read_csv('data/merge/web.csv')\n",
    "wine = pd.read_csv('data/merge/wine.csv')\n",
    "\n",
    "total = car.append(cloth).append(cosmetic).append(digital).append(entertain).append(financial).append(food).append(luxury).append(sall).append(sport).append(travel).append(web).append(wine)\n",
    "\n",
    "total.to_csv('data/totalAnalyse.csv',encoding='utf-8')"
   ]
  },
  {
   "cell_type": "code",
   "execution_count": null,
   "metadata": {},
   "outputs": [],
   "source": [
    "def getIntroduction(url):\n",
    "    driver = webdriver.Chrome()\n",
    "    driver.get(url)\n",
    "\n",
    "    # 品牌主页，简介内容\n",
    "    try:\n",
    "        driver.find_element_by_link_text('展开').click()\n",
    "    except BaseException:\n",
    "        pass\n",
    "        text = \"无简介内容\"\n",
    "    else:\n",
    "        text = driver.find_element_by_class_name('real_intro_txt').text\n",
    "        text = text.strip(' 收起') # 删除多余的“收起”\n",
    "    \n",
    "    driver.close()\n",
    "\n",
    "    return text"
   ]
  },
  {
   "cell_type": "code",
   "execution_count": null,
   "metadata": {
    "tags": []
   },
   "outputs": [],
   "source": [
    "# data = pd.read_csv('data/total.csv')\n",
    "# data['简介']=''\n",
    "\n",
    "for i in range(620,len(data)):\n",
    "    link = data.at[i,'链接']\n",
    "    text = getIntroduction(link)\n",
    "    data.loc[i,'简介'] = text\n",
    "    print(i)\n",
    "    print(text)\n",
    "\n",
    "data.to_csv('data/data_introduction.csv',encoding='utf-8')"
   ]
  },
  {
   "cell_type": "code",
   "execution_count": null,
   "metadata": {},
   "outputs": [],
   "source": [
    "def getAttention(tab):\n",
    "    global flag\n",
    "    driver = webdriver.Chrome()\n",
    "    driver.get(\"https://www.digitaling.com/dindex/brand\")\n",
    "\n",
    "    driver.find_element_by_class_name(tab).click()\n",
    "    driver.implicitly_wait(10) # 隐形等待\n",
    "    # 关注度\n",
    "    names = driver.find_elements_by_class_name('attention')\n",
    "    for i in range(0,len(names)):\n",
    "        name = names[i].text\n",
    "        \n",
    "        print(flag,name)\n",
    "        data.loc[flag,'关注度'] = name\n",
    "        flag = flag + 1\n",
    "\n",
    "    driver.close()"
   ]
  },
  {
   "cell_type": "code",
   "execution_count": null,
   "metadata": {
    "tags": []
   },
   "outputs": [],
   "source": [
    "data['关注度'] = ''\n",
    "tabList = ['car','cloth','cosmetic','digital','entertain','financial','food','luxury','sall','sport','travel','web','wine']\n",
    "\n",
    "flag = 0\n",
    "for tab in tabList:\n",
    "    getAttention(tab)\n",
    "data.to_csv('data/data_attention.csv',encoding='utf-8')\n"
   ]
  },
  {
   "cell_type": "code",
   "execution_count": null,
   "metadata": {
    "tags": []
   },
   "outputs": [],
   "source": [
    "def findNum(name):\n",
    "    colName = ['项目数', '首页收录','获奖数', '项目品质','关注度']\n",
    "    df = pd.DataFrame(columns=colName)\n",
    "\n",
    "    # 爬取品牌及行业信息\n",
    "    driver = webdriver.Chrome()\n",
    "    driver.get(\"https://www.digitaling.com/dindex/brand\")\n",
    "\n",
    "    driver.find_element_by_class_name(name).click()\n",
    "    driver.implicitly_wait(10) # 隐形等待\n",
    "    # 添加品牌信息\n",
    "    projects = driver.find_elements_by_xpath(\"//span[@class='project']\")\n",
    "    collects = driver.find_elements_by_xpath(\"//span[@class='collect']\")\n",
    "    numbers = driver.find_elements_by_xpath(\"//span[@class='collect']/following-sibling::span\")\n",
    "    qualitys = driver.find_elements_by_xpath(\"//span[@class='quality']\")\n",
    "    attentions = driver.find_elements_by_xpath(\"//span[@class='attention']\")\n",
    "\n",
    "    for i in range(0,100):\n",
    "        try:\n",
    "            project = projects[i].text\n",
    "            collect = collects[i].text\n",
    "            number = numbers[i].text\n",
    "            quality = qualitys[i].text\n",
    "            attention = attentions[i].text\n",
    "       # print(project,collect,number,quality,attention)\n",
    "            df.loc[i] = [project,collect,number,quality,attention]\n",
    "        except BaseException:\n",
    "            pass\n",
    "        else:\n",
    "            pass\n",
    "    df.to_csv(name+'2.csv',encoding='utf-8')\n",
    "\n",
    "    driver.close()"
   ]
  },
  {
   "cell_type": "code",
   "execution_count": null,
   "metadata": {
    "tags": []
   },
   "outputs": [],
   "source": [
    "def mergeData(name):\n",
    "    df = pd.read_csv('data/industry/'+name+'.csv')  \n",
    "    dd = pd.read_csv(name+'2.csv')\n",
    "    data = pd.merge(df, dd)  # pandas csv表左连接\n",
    "    data = data.drop(columns=['LOGO', '链接'])\n",
    "    data.to_csv('123/'+name+'.csv',encoding='utf-8')\n"
   ]
  },
  {
   "cell_type": "code",
   "execution_count": null,
   "metadata": {},
   "outputs": [],
   "source": [
    "brandName = ['car','cloth','cosmetic','digital','entertain','financial','food','luxury','sall','sport','travel','web','wine']\n",
    "\n",
    "for name in brandName:\n",
    "    mergeData(name)"
   ]
  },
  {
   "cell_type": "code",
   "execution_count": null,
   "metadata": {
    "tags": []
   },
   "outputs": [],
   "source": [
    "data = pd.read_csv('data/total_intro.csv')  \n",
    "data = data.drop(columns=['ID', 'LOGO','链接'])\n",
    "data.to_csv('data/totalIntroduction.csv',encoding='utf-8')"
   ]
  },
  {
   "cell_type": "code",
   "execution_count": null,
   "metadata": {},
   "outputs": [],
   "source": [
    "def getProjectNum(name):\n",
    "    # 判断是否存在该文件夹\n",
    "    path = \"/Volumes/Backup Plus/brandData/\"+name \n",
    "    num = 0\n",
    "    filenum = 0\n",
    "    isDir = False\n",
    "    isDir = os.path.exists(path)\n",
    "    # 存在 获得其中文件的数量\n",
    "    if isDir:\n",
    "        for lists in os.listdir(path):\n",
    "            sub_path = os.path.join(path, lists)\n",
    "            if os.path.isfile(sub_path):\n",
    "                filenum = filenum+1\n",
    "        \n",
    "    print('filenum: ',filenum)\n",
    "    # 不存在 记为零\n",
    "    return filenum\n"
   ]
  },
  {
   "cell_type": "code",
   "execution_count": null,
   "metadata": {
    "tags": []
   },
   "outputs": [],
   "source": [
    "data = pd.read_csv('../data/totalAnalyse.csv')\n",
    "for i in range(0,len(data)):\n",
    "    name = data.loc[i,\"品牌\"]\n",
    "    fileNum = getProjectNum(name)\n",
    "    data.loc[i,'项目图片数量'] = fileNum\n",
    "\n",
    "data.to_csv('../data/totalAnalyse.csv',encoding='utf-8',index=False)"
   ]
  }
 ],
 "metadata": {
  "language_info": {
   "codemirror_mode": {
    "name": "ipython",
    "version": 3
   },
   "file_extension": ".py",
   "mimetype": "text/x-python",
   "name": "python",
   "nbconvert_exporter": "python",
   "pygments_lexer": "ipython3",
   "version": "3.7.6-final"
  },
  "orig_nbformat": 2,
  "kernelspec": {
   "name": "python_defaultSpec_1599739753304",
   "display_name": "Python 3.7.7 64-bit ('AI': conda)"
  }
 },
 "nbformat": 4,
 "nbformat_minor": 2
}