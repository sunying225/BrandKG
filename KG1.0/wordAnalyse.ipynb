{
 "metadata": {
  "language_info": {
   "codemirror_mode": {
    "name": "ipython",
    "version": 3
   },
   "file_extension": ".py",
   "mimetype": "text/x-python",
   "name": "python",
   "nbconvert_exporter": "python",
   "pygments_lexer": "ipython3",
   "version": "3.7.6-final"
  },
  "orig_nbformat": 2,
  "kernelspec": {
   "name": "python_defaultSpec_1599891885242",
   "display_name": "Python 3.7.6 64-bit (conda)"
  }
 },
 "nbformat": 4,
 "nbformat_minor": 2,
 "cells": [
  {
   "cell_type": "code",
   "execution_count": null,
   "metadata": {},
   "outputs": [],
   "source": [
    "import gc\n",
    "import pandas as pd\n",
    "import numpy as np \n",
    "import matplotlib.pyplot as plt\n",
    "import seaborn as sns\n",
    "import matplotlib as mpl\n",
    "mpl.rcParams['font.sans-serif'] = ['SimHei']\n",
    "mpl.rcParams['font.serif'] = ['SimHei']\n",
    "%matplotlib inline \n",
    "sns.set_style(\"darkgrid\",{\"font.sans-serif\":['SimHei','Droid Sans Fallback']}) # 解决负号问题\n",
    "sns.set(font='SimHei')"
   ]
  },
  {
   "cell_type": "code",
   "execution_count": null,
   "metadata": {
    "tags": []
   },
   "outputs": [],
   "source": [
    "# 词云制作\n",
    "import jieba\n",
    "from wordcloud import WordCloud\n",
    "import PIL.Image as image\n",
    "\n",
    "# 文本内容\n",
    "data = pd.read_csv(\"../data/brandIntro.csv\")\n",
    "text = \"\"\n",
    "for i in range(0,len(data)):\n",
    "    if (data.iloc[i,1] == '汽车'):\n",
    "        text += data.iloc[i,2]\n",
    "# 分词结果\n",
    "# seg_list = jieba.cut(text, cut_all=False)\n",
    "# print(u\"[精确模式]: \", \"/ \".join(seg_list))\n",
    "\n",
    "# 禁用词\n",
    "stopwords = {}.fromkeys(['MINI', 'LS'])\n",
    "#添加禁用词之后\n",
    "seg_list = jieba.cut(text)\n",
    "final = ''\n",
    "for seg in seg_list:\n",
    "    if seg not in stopwords:\n",
    "        final += seg\n",
    "        seg_list_new = jieba.cut(final)\n",
    "result = \" \".join(seg_list_new)\n",
    "# print(result)\n",
    "\n",
    "# 词云形状\n",
    "# mask = np.array(image.open(\"../resources/img/car.jpg\"))\n",
    "wordcloud = WordCloud(\n",
    "# 遮罩层,除白色背景外,其余图层全部绘制（之前设置的宽高无效）\n",
    "# mask=mask,\n",
    "#默认黑色背景,更改为白色\n",
    "background_color='#FFFFFF',\n",
    "# 若想生成中文字体,需添加中文字体路径\n",
    "font_path=\"../resources/SourceHanSerifCN-Medium.ttf\"\n",
    ").generate(text)\n",
    "#返回对象\n",
    "image_produce = wordcloud.to_image()\n",
    "#保存图片\n",
    "wordcloud.to_file(\"new_wordcloud.jpg\")\n",
    "#显示图像\n",
    "image_produce.show()\n",
    "\n"
   ]
  },
  {
   "cell_type": "code",
   "execution_count": null,
   "metadata": {
    "tags": []
   },
   "outputs": [],
   "source": [
    "# 计算词频\n",
    "word_count={}\n",
    "for word in count:\n",
    "    word_count[word] = word_count.get(word, 0) + 1\n",
    "items = list(word_count.items())\n",
    "items.sort(key=lambda x: x[1], reverse=True)\n",
    "\n",
    "items"
   ]
  },
  {
   "cell_type": "code",
   "execution_count": null,
   "metadata": {},
   "outputs": [],
   "source": [
    "data = pd.read_csv(\"../data/brandIntro.csv\")\n",
    "text = \"\"\n",
    "for i in range(0,len(data)):\n",
    "    if (data.iloc[i,1] == '酒'):\n",
    "        text += data.iloc[i,2]\n",
    "text"
   ]
  },
  {
   "cell_type": "code",
   "execution_count": null,
   "metadata": {},
   "outputs": [],
   "source": []
  }
 ]
}