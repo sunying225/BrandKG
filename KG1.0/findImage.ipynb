{
 "metadata": {
  "language_info": {
   "codemirror_mode": {
    "name": "ipython",
    "version": 3
   },
   "file_extension": ".py",
   "mimetype": "text/x-python",
   "name": "python",
   "nbconvert_exporter": "python",
   "pygments_lexer": "ipython3",
   "version": "3.7.6-final"
  },
  "orig_nbformat": 2,
  "kernelspec": {
   "name": "python_defaultSpec_1599203681475",
   "display_name": "Python 3.7.6 64-bit (conda)"
  }
 },
 "nbformat": 4,
 "nbformat_minor": 2,
 "cells": [
  {
   "cell_type": "code",
   "execution_count": 2,
   "metadata": {},
   "outputs": [],
   "source": [
    "import sys\n",
    "sys.path.append('/opt/miniconda3/lib/python3.7/site-packages')\n",
    "from urllib.request import urlopen\n",
    "from urllib.request import urlretrieve\n",
    "import urllib\n",
    "from urllib.error import HTTPError\n",
    "from bs4 import BeautifulSoup\n",
    "import re\n",
    "import os\n",
    "import pandas as pd\n",
    "import numpy as np\n",
    "from selenium import webdriver\n",
    "from time import sleep"
   ]
  },
  {
   "cell_type": "code",
   "execution_count": 3,
   "metadata": {},
   "outputs": [],
   "source": [
    "def getPageNum(url):\n",
    "    driver.get(url)\n",
    "    pageNumber = driver.find_element_by_xpath(\"//label[@class='mg_r_10']\")\n",
    "    number = int( pageNumber.text.strip('共').strip('页') )\n",
    "    return number"
   ]
  },
  {
   "cell_type": "code",
   "execution_count": 4,
   "metadata": {},
   "outputs": [],
   "source": [
    "def findProjectURL(url,ID,name):\n",
    "    # 项目页数\n",
    "    pageNumber = getPageNum(url)\n",
    "    colName = ['brand', 'link']\n",
    "    df = pd.DataFrame(columns=colName)\n",
    "\n",
    "    # 每一页\n",
    "    for i in range(1,pageNumber+1):\n",
    "    # 找具体项目的链接\n",
    "        projectURL12 = \"https://www.digitaling.com/company/projects/\"+ID+\"/latest/\"+str(i)\n",
    "        driver.get(projectURL12)\n",
    "        \n",
    "        for j in range(1,13):\n",
    "            try:\n",
    "                link = driver.find_element_by_xpath(\"//*[@id='warp']/div/div[2]/div[2]/div[\"+str(j)+\"]/div[1]/a\")\n",
    "            except BaseException:\n",
    "                pass\n",
    "            else:\n",
    "                link = link.get_attribute(\"href\")\n",
    "                rawName = name+'_'+str(i)+'_'+str(j)\n",
    "                df.loc[rawName] = [name,link]\n",
    "                # print(df)\n",
    "            \n",
    "    return df"
   ]
  },
  {
   "cell_type": "code",
   "execution_count": 8,
   "metadata": {
    "tags": []
   },
   "outputs": [],
   "source": [
    "def getImage(url,name,brand):\n",
    "     try:\n",
    "          driver.get(url)\n",
    "          driver.implicitly_wait(10) # 隐形等待\n",
    "     except BaseException:\n",
    "          pass\n",
    "     else:\n",
    "          #项目图片\n",
    "          try:\n",
    "               imgList = driver.find_elements_by_xpath(\"//*[@id='article_con']/p/img\")\n",
    "          except BaseException:\n",
    "               pass\n",
    "          else:\n",
    "               for i in range(0,len(imgList)):\n",
    "                    imgURL = imgList[i].get_attribute(\"data-original\")\n",
    "                    # 新建文件夹\n",
    "                    path = \"/Volumes/Backup Plus/brandData/\" + brand\n",
    "                    isExists=os.path.exists(path)\n",
    "                    if not isExists:\n",
    "                         os.makedirs(path) \n",
    "                    # 储存图片\n",
    "                    imgName = \"/Volumes/Backup Plus/brandData/\"+ brand +'/' + name +'_' + str(i) + \".jpg\"\n",
    "                    try:\n",
    "                         urlretrieve(imgURL, imgName)  \n",
    "                    except BaseException:\n",
    "                         pass\n",
    "                    else:\n",
    "                         # print(\"download\"+imgName)\n",
    "                         pass\n",
    "                    \n",
    "  "
   ]
  },
  {
   "cell_type": "code",
   "execution_count": 5,
   "metadata": {},
   "outputs": [],
   "source": [
    "def findBrand(brandName,brandID):\n",
    "    # 项目页面\n",
    "    brandURL = \"https://www.digitaling.com/company/projects/\"+brandID\n",
    "    driver.get(brandURL)               \n",
    "    # 所有项目链接\n",
    "    try:\n",
    "        projectList = findProjectURL(brandURL,brandID,brandName)\n",
    "    except BaseException:\n",
    "        pass\n",
    "    else:                 \n",
    "        projectList = projectList.reset_index() # 自增索引\n",
    "        # 获取项目中的图片\n",
    "        for i in range(0,len(projectList)):\n",
    "            link = projectList.loc[i,\"link\"]\n",
    "            name = projectList.loc[i,\"index\"]\n",
    "            brand = projectList.loc[i,\"brand\"]\n",
    "            getImage(link,name,brand)"
   ]
  },
  {
   "cell_type": "code",
   "execution_count": 9,
   "metadata": {
    "tags": []
   },
   "outputs": [
    {
     "output_type": "stream",
     "name": "stdout",
     "text": "0MINI爬过了\n1BMW 宝马爬过了\n2Mercedes-Benz 梅赛德斯-奔驰爬过了\n3Cadillac 凯迪拉克爬过了\n4LEXUS 雷克萨斯爬过了\n5Volkswagen 大众汽车爬过了\n6Audi 奥迪爬过了\n7Volvo Car 沃尔沃汽车爬过了\n8Jeep® 吉普爬过了\n9BUICK 别克爬过了\n10Chevrolet 雪佛兰爬过了\n11TOYOTA 丰田爬过了\n12Citroen 东风雪铁龙爬过了\n13Honda 本田爬过了\n14BYD 比亚迪爬过了\n15NISSAN 东风日产爬过了\n16Changan Ford 长安福特爬过了\n17Subaru 斯巴鲁爬过了\n18ŠKODA 斯柯达爬过了\n19FAW Volkswagen 一汽大众爬过了\n20Renault 雷诺爬过了\n21Porsche 保时捷爬过了\n22Vico Volkswagen 大众进口汽车爬过了\n23现代汽车集团爬过了\n24Infiniti 英菲尼迪爬过了\n25Bentley 宾利爬过了\n26五菱汽车爬过了\n27Shanghai Volkswagen 上海大众汽车爬过了\n28HONDA 东风本田爬过了\n29KIA 起亚汽车 中国爬过了\n30宇通客车爬过了\n31GEELY 吉利爬过了\n32优信爬过了\n33Land Rover 路虎爬过了\n34Ford 福特爬过了\n35smart爬过了\n36LINCOLN 林肯 中国爬过了\n37NIO 蔚来爬过了\n38Beijing HYUNDAI 北京现代爬过了\n39Great Wall Motor 长城汽车爬过了\n40AstonMartin 阿斯顿马丁爬过了\n41Mazda 一汽马自达爬过了\n42Jaguar 捷豹爬过了\n43Maserati 玛莎拉蒂爬过了\n44Rolls Royce 劳斯莱斯爬过了\n45ENOVATE 天际汽车\n46Changan 长安汽车爬过了\n47Chana Mazda 长安马自达爬过了\n48FAW TOYOTA 一汽丰田爬过了\n49ZINORO 之诺爬过了\n50ROEWE 荣威爬过了\n51MICHELIN 米其林爬过了\n52东风悦达起亚爬过了\n53GM 通用汽车爬过了\n54Maybach 迈巴赫爬过了\n55SAIC MOTOR 上汽集团爬过了\n56Gac TOYOTA 广汽丰田爬过了\n57Mazda 马自达 中国爬过了\n58MG 名爵爬过了\n59Shell 壳牌爬过了\n60Continental 大陆爬过了\n61HONDA 广汽本田爬过了\n62BAIC Motor 北京汽车爬过了\n63TESLA 特斯拉\n64Peugeot 东风标致爬过了\n65Changan Suzuki 长安铃木爬过了\n66LANDWIND 陆风汽车爬过了\n67Ferrari 法拉利爬过了\n68GAC Fiat 广汽菲亚特爬过了\n69红旗爬过了\n70QOROS 观致汽车爬过了\n71Alfa Romeo 阿尔法·罗密欧爬过了\n72Castrol 嘉实多爬过了\n73MITSUBISHI MOTORS 三菱汽车爬过了\n74SAIC-GM 上汽通用汽车爬过了\n75LYNK&CO 领克汽车爬过了\n76Ssangyong 双龙汽车爬过了\n77BESTURN 一汽奔腾爬过了\n78Jiangling Motors 江铃汽车爬过了\n79CHERY 奇瑞汽车爬过了\n80Hawtai Motor 华泰汽车爬过了\n81SEAT 西雅特爬过了\n82Giti 佳通轮胎爬过了\n83长安欧尚爬过了\n84东风裕隆-纳智捷爬过了\n85人人车爬过了\n86Haima 海马爬过了\n87Englon 英伦汽车\n88途虎养车爬过了\n89神州租车爬过了\n90DODGE 道奇酷威\n91CRRC 中国中车\n92CAPSA 长安标致雪铁龙爬过了\n93Chrysler 克莱斯勒爬过了\n94Lamborghini 兰博基尼爬过了\n95Hertz 赫兹爬过了\n96OPEL 欧宝爬过了\n97Hankook 韩泰轮胎爬过了\n98PATEO 博泰爬过了\n99天津一汽爬过了\n100太平鸟爬过了\n101UNIQLO 优衣库爬过了\n102Levi‘s 李维斯爬过了\n103NEIWAI 内外爬过了\n104CONVERSE 匡威爬过了\n105JACK WOLFSKIN 狼爪爬过了\n106JNBY 江南布衣爬过了\n107PANDORA 潘多拉爬过了\n108DIESEL\n109CITIZEN 西铁城爬过了\n110Annil 安奈儿爬过了\n111Semir 森马爬过了\n112GXG爬过了\n113EMXEE 嫚熙爬过了\n114Calvin Klein 卡尔文·克雷恩爬过了\n115UGG Australia爬过了\n116HLA 海澜之家爬过了\n117KENZO 凯卓爬过了\n118Lee爬过了\n119RIMOWA爬过了\n120FILA 斐乐爬过了\n121老凤祥爬过了\n122波司登爬过了\n123EP雅莹爬过了\n124Lacoste 鳄鱼爬过了\n125Michael Kors爬过了\n126报喜鸟爬过了\n127DR 戴瑞爬过了\n128Daniel Wellington 丹尼尔·惠灵顿爬过了\n129Parim 派丽蒙爬过了\n130JACK & JONES 杰克琼斯爬过了\n131WESTLINK西遇爬过了\n132Timberland爬过了\n133I Do爬过了\n134COACH 蔻驰爬过了\n135GAP 盖璞爬过了\n136Casio 卡西欧爬过了\n137木九十MUJOSH爬过了\n138SWATCH 斯沃琪爬过了\n139LYCRA®莱卡®爬过了\n140AIMER MEN 爱慕先生爬过了\n141BESTSELLER 绫致时装爬过了\n142Zippo 之宝爬过了\n143Triumph 黛安芬爬过了\n144K-BOXING 劲霸男装爬过了\n145JASONWOOD 坚持我的爬过了\n146hotwind 热风爬过了\n147Tory Burch 汤丽柏琦爬过了\n148H&M爬过了\n149康奈爬过了\n150JINS 睛姿爬过了\n151Tissot 天梭爬过了\n152韩都衣舍爬过了\n153Samsonite 新秀丽爬过了\n154C&A爬过了\n155exull依思Q爬过了\n156Clarks爬过了\n157Onitsuka Tiger 鬼塚虎爬过了\n158kate spade爬过了\n159FIYTA 飞亚达爬过了\n160ROARINGWILD\n161Aimer 爱慕爬过了\n162Septwolves 七匹狼爬过了\n163Chow Sang Sang 周生生爬过了\n164MCM爬过了\n165Wacoal 华歌尔爬过了\n166Mark Fairwhale 马克华菲爬过了\n167Ray Ban 雷朋爬过了\n168Meters/bonwe 美特斯邦威爬过了\n169JONAS&VERUS 唯路时爬过了\n170Lily 商务时装爬过了\n171TASAKI 株式会社爬过了\n172Yessing\n173Cabbeen 卡宾爬过了\n174I.T爬过了\n175Yearcon 意尔康爬过了\n176Stella McCartney爬过了\n177HOPESHOW 红袖爬过了\n178FMACM爬过了\n179Y-3爬过了\n180ERDOS 鄂尔多斯爬过了\n181Tonlion 唐狮爬过了\n182ELFSACK 妖精的口袋爬过了\n183ECCO 爱步爬过了\n184马良行爬过了\n185TOD’S爬过了\n186TUMI 途明爬过了\n187American Eagle爬过了\n188SCHIESSER 舒雅爬过了\n189BeLLE 百丽爬过了\n190AOKANG 奥康爬过了\n191SWAROVSKI 施华洛世奇爬过了\n192HOGAN 豪根爬过了\n193Jessica 杰西卡爬过了\n194G-Star RAW爬过了\n195URBAN REVIVO爬过了\n196GIORDANO 佐丹奴爬过了\n197Balabala 巴拉巴拉爬过了\n198chow tai fook 周大福爬过了\n199CH’IN 祺爬过了\n200P&G 宝洁爬过了\n201HomeFacial Pro爬过了\n202Perfect Diary 完美日记爬过了\n203L‘oreal Paris 巴黎欧莱雅爬过了\n204PECHOIN 百雀羚爬过了\n205SK-II爬过了\n206Estée Lauder 雅诗兰黛爬过了\n207Shiseido 资生堂爬过了\n208Pantene 潘婷爬过了\n209杜蕾斯爬过了\n210Olay 玉兰油爬过了\n211Dettol 滴露爬过了\n212冈本\n213Kleenex® 舒洁®\n214SEPHORA 丝芙兰\n215Rejoice 飘柔\n216Breeze清风\n217Kiehl’s 科颜氏\n218碧浪\n219Dove 多芬\n220Sofy 苏菲\n221Tide 汰渍\n222Braun 博朗\n223YUESAI 羽西\n224Innisfree 悦诗风吟\n225LAB SERIES 朗仕\n226CARSLAN 卡姿兰\n227Shu Uemura 植村秀\n228Mentholatum 曼秀雷敦\n229Oral-B 欧乐-B\n230Safeguard 舒肤佳\n231proya 珀莱雅\n232Vidal Sasson 沙宣\n233Lancôme 兰蔻\n234Vinda 维达\n235L’Oréal Group 欧莱雅集团\n236Jo Malone London 祖·玛珑\n237DR PLANT 植物医生\n238纳爱斯\n239Chando 自然堂\n240Tempo 得宝\n241kao Graoup 花王集团\n242Crest 佳洁士\n243Bausch & Lomb 博士伦\n244冷酸灵\n245OSM 欧诗漫\n246Colgate 高露洁\n247MAC 魅可\n248SCENT LIBRARY 气味图书馆\n249Herborist 佰草集\n250Libresse 薇尔\n251CLEAR 清扬\n252TSUBAKI 丝蓓绮\n253Liby 立白\n254Space 7 七度空间\n255半亩花田\n256Guerlain 娇兰\n257Zhonghua 中华牙膏\n258RIBECS 伊贝诗\n259康王\n260Gillette 吉列\n261Estée Lauder 雅诗兰黛集团\n262Charlotte Tilbury\n263Lifebuoy 卫宝\n264Paparecipe 春雨\n265Jissbon 杰士邦\n266Inoherb 相宜本草\n267NIVEA 妮维雅\n268Unilever 联合利华\n269Kotex® 高洁丝®\n270Clarins 娇韵诗\n271OMO 奥妙\n272MARIE DALGAR 玛丽黛佳\n273Vaseline 凡士林\n274KATE 凯朵\n275Hanhoo 韩后\n276Clinique 倩碧\n277Lux 力士\n278AUPRES 欧珀莱\n279Old Spice 欧仕派\n280Helena Rubinstein 赫莲娜\n281Whisper 护舒宝\n282Biotherm 碧欧泉\n283La Roche-Posay 理肤泉\n284Maybelline 美宝莲\n285Liushen 六神\n286Head & Shoulders 海飞丝\n287MAX FACTOR 蜜丝佛陀\n288Jahwa 上海家化\n289植观\n290Darlie 黑人牙膏\n291KOSE 高丝\n292gf 高夫\n293LANEIGE 兰芝\n294Schick 舒适\n295maxam 美加净\n296大宝\n297AVON 雅芳\n298Kerastase 卡诗\n299Free 飞\n300Huawei 华为\n301Apple 苹果\n302OPPO 欧珀\n303vivo\n304Midea 美的\n305Samsung 三星\n306FOTILE 方太\n307MEIZU 魅族\n308MI 小米\n309Haier 海尔\n310Lenovo 联想\n311Casarte 卡萨帝\n312SKYWORTH 创维\n313DJI 大疆创新\n314荣耀honor\n315AUX奥克斯空调\n316Panasonic 松下\n317ROBAM 老板电器\n318Fujifilm 富士相机\n319Leica 徕卡\n320HP 惠普\n321SAKURA 樱花卫厨\n322Philips 飞利浦\n323GoPro\n324CHANGHONG 长虹\n325Intel 英特尔\n326BOSE\n327China Mobile 中国移动\n328Whirlpool 惠而浦\n329TCL\n330Canon 佳能\n331Smartisan 锤子科技\n332E-life Mall Corporatton 全国电子\n333NIKON 尼康\n334QUALCOMM 高通\n335SIEMENS 西门子\n336Ecovacs 科沃斯机器人\n337Sony 索尼\n338BenQ 明基\n339TECNO\n340WAHIN 华凌\n341NORITZ 能率\n342Joyoung 九阳\n343Yamaha 雅马哈\n344nubia 努比亚\n345Beats By Dr.Dre\n346Dell 戴尔\n347SUPOR 苏泊尔\n348IBM\n349Hisense 海信\n350DAIKIN 大金\n351Fuji Xerox 富士施乐\n352T STAR 台湾之星\n353Rokid\n354dyson 戴森\n355RELX 悦刻\n356魅蓝科技\n357niu 小牛电动\n358GREE 格力\n359Gionee 金立\n360Motorola 摩托罗拉\n361Bosch 博世\n362ThundeRobot 雷神\n363GE 通用电气\n364LG 电子\n365Singfun 先锋\n366Hitachi 日立\n367Leader 统帅电器\n368TOSHIBA 东芝\n369ASUS 华硕\n370AUPU 奥普\n371Nokia 诺基亚\n372BULL 公牛电器\n373SHARP 夏普\n374ZTE 中兴通讯\n375Brother 兄弟\n376HTC 宏达电子\n377Bear 小熊电器\n378A.O.Smith 史密斯\n379Acer 宏碁\n380Kingston 金士顿®\n381Skullcandy\n382Meling 美菱\n383China Unicom 中国联通\n384Coolpad 酷派\n385JmGO 坚果\n386FET 远传电信\n387Airmate 艾美特\n388LIMA 立马\n389LittleSwan 小天鹅\n390Logitech 罗技\n391Vitamix 维他美仕\n392NOARK 诺雅克\n393VISIONERTECH 易瞳科技\n394CMIOT 中移物联网\n395海尔星盒\n396Tsinghua Tongfang 清华同方\n397FOVE\n398Whaley 微鲸\n399极路由\n400网易云音乐\n401腾讯视频\n402抖音\n403腾讯游戏\n404虾米音乐\n405CCTV 中央电视台\n406bilibili 哔哩哔哩\n407新世相\n408Supercell\n409网易游戏\n410Nintendo 任天堂\n411Disney 迪士尼\n412优酷\n413豆瓣\n414奇葩说\n415PlayStation\n416QQ音乐\n417酷狗音乐\n418网易蜗牛读书\n419iQIYI 爱奇艺\n420南方都市报\n421Netflix\n422Kindle\n423阅文集团\n424Rolife若来\n425youzu.com 游族网络\n426全民k歌\n427大麦网\n428HBO\n429芒果TV\n430TME 腾讯音乐娱乐集团\n431完美世界游戏\n432腾讯动漫\n433梨视频\n434淘票票\n435inke 映客\n436萌力星球\n437同城游\n438乐视视频\n439GLA 格兰莫颐\n440真实故事计划\n441MCC\n442腾讯影业\n443MVM design\n444土豆网\n445阿里巴巴影业集团\n446优酷土豆集团\n447万达影业\n448新东方\n449网易漫画\n450Business Review 商业评论\n451蜻蜓FM\n452YouTube\n453东方卫视\n454华纳音乐\n455网易云阅读\n45637游戏\n457花椒直播\n458PPTV 聚力\n459香蕉娱乐\n460MIGU 咪咕阅读\n461meten 美联英语\n462Sanrio 三丽鸥\n463Columbia Pictures 哥伦比亚电影公司\n464Universal Pictures 环球影业\n465Super Mario 超级马里奥兄弟\n466浙江卫视\n467WASU 华数\n468H.Brothers 华谊兄弟\n469言几又\n470雷霆游戏\n471网易云课堂\n472Sony Music 索尼音乐\n473Oriental DreamWorks 东方梦工厂\n474华谊兄弟时尚\n475小天才\n476现代广告\n477未来事务管理局\n478JOOX\n479咪咕\n480银汉游戏\n481TUZKI 兔斯基\n482大地影院\n483KING COIN 猩王部落\n484LIVE NATION\n485Paramount Pictures 派拉蒙影业\n486龙图游戏\n487隽逸文化\n488Onmyoji 阴阳师\n489GRAZIA 红秀\n490快视频\n491echo 回声\n492亚特体育\n493光线传媒\n494KKBOX\n495畅游\n496第七大道\n497简书\n498咪咕善跑\n499暴风影音\n500支付宝\n501China UnionPay 中国银联\n502民生银行信用卡\n503京东金融\n504蚂蚁花呗\n505招商银行信用卡\n506微信支付\n507招商银行\n508中国平安\n509WeBank 微众银行\n510微保WeSure\n511招联金融\n512LU.com 陆金所\n513京东白条\n514浦发银行信用卡\n515蚂蚁金服\n516MasterCard® 万事达卡\n517中国工商银行\n518中信银行信用卡\n519浦发银行\n520还呗\n521理财通\n522中宏保险\n523DBS 星展银行\n524拍拍贷\n525PICC 中国人民保险\n526广州银行信用卡\n527中信银行\n528Cathay Insurance 国泰产险\n529天弘基金\n530ChinaAMC 华夏基金\n531人人贷\n532LianLian Pay 连连跨境支付\n533PwC 普华永道\n534中国银行\n535平安普惠\n536CTBC Bank 中国信托银行\n537PayPal 贝宝\n538弹个车\n539AIA 友邦保险\n540泰华农民银行\n541广发银行\n542众安保险\n543汇添富基金\n544兴全基金\n545ANXIN TRUST 安信信托\n546中原消费金融\n547CTCF 中腾信\n548交通银行\n549VISA\n550爱钱进\n551平安银行\n552HSBC 汇丰银行\n553融360\n554南方基金\n555CPIC 太平洋保险\n556PING AN 平安金融旗舰店\n557中国光大银行\n558Allianz Insurance 安联保险\n559qianbao.com 钱包金服\n560百度钱包\n561兴业银行\n562fengjr.com 凤凰金融\n563轻松筹\n564taijs.com 泰金所\n565招商蛇口\n566Standard Charted 渣打银行\n567中国农业银行\n568财付通\n569信用飞\n57051人品贷\n571Manulife Financial 宏利金融\n572AXA 安盛天平\n573Metlife 大都会人寿\n574中国民生银行\n575American Express 美国运通\n576台湾人寿\n577国泰君安\n578EPS 易办事\n579挖财\n580国泰基金\n581小小金融\n582Aiyoumi 爱又米\n583国金基金\n584宜人贷\n585汇付天下\n586口袋财行\n587广发证券\n588嘉实基金\n589富邦华一银行\n590金恪集团\n591创业时代\n592ATS 爱投社\n593夸客金融\n594真融宝\n595国华人寿\n596台新银行\n597中业兴融\n598银客集团\n599有利网\n600McDonald’s 麦当劳\n601Coca-Cola 可口可乐\n602KFC 肯德基\n603HEYTEA 喜茶\n604Pepsi 百事可乐\n605BURGER KING 汉堡王\n606Starbucks 星巴克\n607HOT KID 旺仔俱乐部\n608伊利\n609Nescafe 雀巢咖啡\n610Uni-President 统一\n611Oreo 奥利奥\n612五芳斋\n613Sprite 雪碧\n614LELECHA 乐乐茶爬过了\n615SUNTORY 三得利爬过了\n616luckincoffee 瑞幸咖啡爬过了\n617Mengniu 蒙牛爬过了\n618Nongfu Spring 农夫山泉爬过了\n619Pizza Hut 必胜客爬过了\n620Mike Deluxe 特仑苏爬过了\n621三只松鼠爬过了\n622百草味爬过了\n623王老吉爬过了\n624卫龙爬过了\n625Snickers 士力架爬过了\n626lecafe 左岸咖啡馆爬过了\n627NISSIN 日清食品爬过了\n628Dove 德芙爬过了\n629Cheetos 奇多爬过了\n630康师傅爬过了\n631Vitasoy 维他奶爬过了\n632Mirinda 美年达爬过了\n633来伊份爬过了\n634Lay‘s 乐事爬过了\n635evian 依云爬过了\n636Chupa Chups 珍宝珠爬过了\n637Pocari Sweat 宝矿力水特爬过了\n638Dicos 德克士爬过了\n639HaiDiLaoHotPot 海底捞火锅爬过了\n640Minute Maid 美汁源爬过了\n641Fanta 芬达\n642娃哈哈\n643GODIVA 歌帝梵\n644BESTORE 良品铺子\n645Skittles 彩虹糖\n646雀巢集团\n647Oishi 上好佳\n648Maxwell House 麦斯威尔\n6497-Up 7喜\n650Wall‘s 和路雪\n651Quaker 桂格\n652Yakult 养乐多\n653味全\n654健力宝\n655SANYUAN 三元食品\n656Häagen-Dazs 哈根达斯\n657Pringles 品客\n658UFS 联合利华饮食策划\n659拉面说\n660Pocky 百奇\n661YOSHINOYA 吉野家\n662EASELIFE 宜简\n663UHA 悠哈\n664HERSHEY’S 好时\n665MAGNUM 梦龙\n666东阿阿胶\n667蜜雪冰城\n668湾仔码头\n669茶里王\n670Apenliebe 阿尔卑斯\n671Meiji 明治\n672WHITE RABBIT 大白兔\n673MonsterEnergy 魔爪\n674香港美心集团\n675Kinder bueno 健达缤纷乐\n676朝天门火锅\n677兰芳园\n678Lee Kum Kee 李锦记\n679Doritos 多力多滋\n680优益C\n681Bright Dairy 光明乳业\n682Hey Song 黑松\n683零度果坊\n684太太乐\n685小罐茶\n686Glico 格力高\n687SINGLE DOG\n688qiaqia 洽洽\n689M&M’s\n690VEDAN 味丹\n691Valio 蔚优\n692Perrier 巴黎水\n693Lipton 立顿\n694FERRERO ROCHER 费列罗\n695ORION 好丽友\n696CoCo 都可\n697Ichido 宜芝多\n698椰树集团\n699ALKAQUA 爱夸\n700GUCCI 古驰\n701CHANEL 香奈儿\n702Hermès 爱马仕\n703Louis Vuitton 路易威登\n704Dior 迪奥\n705BVLGARI 宝格丽\n706PRADA 普拉达\n707Tiffany & Co. 蒂芙尼\n708Burberry 博柏利\n709YSL 圣罗兰\n710LA MER 海蓝之谜\n711Armani 阿玛尼\n712Montblanc 万宝龙\n713miu miu\n714VALENTINO 华伦天奴\n715LOEWE 罗意威\n716Balenciaga 巴黎世家\n717BOBBI BROWN 芭比波朗\n718Cartier 卡地亚\n719PIAGET 伯爵\n720TUDOR 帝舵\n721Ermenegildo Zegna 杰尼亚\n722IWC 万国表\n723BLANCPAIN 宝珀\n724BALLY 巴利\n725PGI 国际铂金协会\n726Givenchy 纪梵希\n727FENDI 芬迪\n728Chloé 蔻依\n729Jaeger-LeCoultre 积家\n730La Prairie 莱珀妮\n731Van Cleef & Arpels 梵克雅宝\n732SHANG XIA 「上下」\n733JIMMY CHOO\n734Rolex 劳力士\n735CHAUMET 尚美巴黎\n736Longchamp 珑骧\n737TAG Heuer 泰格豪雅\n738OMEGA 欧米茄\n739MIKIMOTO 御木本\n740Shining House 钻石世家\n741CELINE 思琳\n742Bottega Veneta 葆蝶家\n743AudemarsPiguet 爱彼\n744Forevermark 永恒印记\n745HRnet One 北京\n74610 Corso Como\n747HUBLOT 宇舶表\n748RADO 瑞士雷达\n749WGC 世界黄金协会\n750老庙黄金\n751universum 优兴咨询\n752CROSS\n753宝瓷林\n754Hamilton 汉米尔顿\n755BlingBlingStar\n756Talent2\n757MMAGPY\n758Tmall 天猫\n759JD.com 京东\n760淘宝\n761聚划算\n762TMALL.HK 天猫国际\n763饿了么\n764网易严选\n7657-Eleven\n766Amazon 亚马逊\n767Pxmart 全联福利中心\n768盒马\n769苏宁易购\n770考拉海购\n771唯品会\n772闲鱼\n773Family Mart 全家\n774口碑\n775Watsons 屈臣氏\n776小红书\n777小米有品\n778美团外卖\n779Macy’s 梅西百货\n780Carrefour 家乐福\n781LAWSON 罗森\n782Vanward 万和\n783TESCO 乐购\n784WalMart 沃尔玛\n785Asda 阿斯达\n786天猫超市\n787海囤全球\n788Simple Mart 美廉社\n789DANING 大宁国际\n790叮当快药\n791饿了么星选\n792极有家\n793ALDI 奥乐齐\n794AliExpress 全球速卖通\n795yhd.com 1号店\n796蘑菇街\n797百度外卖\n798John Lewis\n799当当\n800豌豆公主\n801SUNING 苏宁控股\n802网易智造\n803smzdm.com 什么值得买\n804魅力惠\n805JD Fashion 京东时尚\n806百度糯米\n807乐视商城\n808顺丰优选\n809TAIKOOLI 三里屯太古里\n810VANCL 凡客诚品\n811GOME 国美电器\n812MINISO 名创优品\n813永辉云创\n814Marks & Spencer 马莎百货\n815J.C.Penney 杰西潘尼\n816恒隆\n817Easybuy 易优百\n818美图美妆\n819丰趣海淘\n820Munchkin 满趣健\n821The Shilla 新罗免税店\n822Media Markt 万得城电器\n823快乐购\n824CAMRA 凯爵啤酒\n825聚美优品\n826Wellcome 惠康\n827AINZ&TULPE\n828国美在线\n829微店\n830Nice in\n831爱回收\n832YOHO! 新力传媒\n833Manor\n834SHINSEGAE 韩国新世界\n835易积电器\n836PARKSON 百盛\n837JUANPI.COM 卷皮\n838萌店\n839RRS 日日顺\n840伊的家\n841有得卖\n842ANIN 鹿口\n843酷乐潮玩\n844一淘网\n845KEYing 凯诘\n846蓝店\n847SHANGPIN.COM 尚品\n848Season Splace 金融街购物中心\n849XIAOERMAI 小而麦\n850Hisense 海信商用冷链\n851PAL 百芙润\n852锦唐电商\n853奢侈王国\n854TRUST LUXE 品臻\n855店宝宝\n856蚊子会\n857新辉伟达\n858NIKE 耐克\n859adidas 阿迪达斯\n860adidas neo\n861Vans 范斯\n862ANTA 安踏\n863adidas Originals 阿迪达斯经典三叶草\n864361° 三六一度\n865New Balance 新百伦\n866WARRIOR 回力\n867PUMA 彪马\n868Keep\n869LI-NING 李宁\n870Jordan Brand 乔丹\n871ASICS 亚瑟士\n872特步\n873Kappa 卡帕\n874Under Armour 安德玛\n875SKECHERS 斯凯奇\n876PEAK 匹克\n877The North Face 北面\n878Reebok 锐步\n879ANTA KIDS 安踏儿童\n880悦跑圈\n881Columbia 哥伦比亚\n882贵人鸟\n883ERKE 鸿星尔克\n884QIAODAN 乔丹体育\n885Decathlon 迪卡侬\n886PONY 波尼\n887Oakley 欧克利\n888Special Olympics 国际特奥会\n889GORE-TEX® 戈尔特斯\n890UMBRO 茵宝\n891Mizuno 美津浓\n892KROCEUS 地球科学家\n893ARCTERYX 始祖鸟\n894DOMYOS 动悦适\n895Feel App\n896700Bike 柒佰\n897MOMENTUM 莫曼顿\n898Le Coq Sportif 乐卡克\n899兔子骑行\n900wesai.com 微赛体育\n901Speedo 速比涛\n902行走的力量\n903arena 阿瑞娜\n904PANTUO 磐拓户外\n905LINGPAO 领跑体育\n906TREK 崔克\n907Move Shanghai\n908K·SWISS 盖世威\n909GIANT 捷安特\n910Rebel FC 锐力搏冠军赛\n911卡内基训练\n912Specialized 闪电\n913携程旅行\n914Airbnb 爱彼迎\n915高德地图\n916JD Logistics 京东物流\n917飞猪旅行\n918马蜂窝\n919小猪\n920锦江WeHotel\n921Marriott 万豪国际集团\n922CHIMELONG 长隆\n923中国东方航空\n924ANA 全日空\n925Deppon 德邦\n926Qunar.com 去哪儿网\n927S.F. Express 顺丰速运\n928Japan Airlines 日本航空公司\n929Happy Valley 欢乐谷\n930Korean Air 大韩航空\n931滴滴快车\n932Fairmont Hotels & Resorts 费尔蒙酒店集团\n933FedEx 联邦快递\n934智行\n935KLM 荷兰皇家航空\n936Air New Zealand 新西兰航空\n937Star Alliance 星空联盟\n938途家民宿\n939Uber 优步\n940Australia Tourism 澳大利亚旅游局\n941Air China 中国国航\n942British Airways 英国航空公司\n943ATOUR 亚朵\n944Lufthansa 德国汉莎航空\n945飞常准\n946KLOOK 客路旅行\n947Mandarin Oriental 文华东方\n948China Southern 中国南方航空\n949Cathay Pacific 国泰航空\n950Air Asia 亚洲航空\n951Hong Kong Ocean Park 香港海洋公园\n952Tuniu.com 途牛旅游网\n953同程旅游\n954Delta Airlines 达美航空\n955航班管家\n956TripAdvisor 猫途鹰\n957南湖国旅\n958HKTB 香港旅游发展局\n959同程旅行\n960JNTO 日本国家旅游局\n961Air France 法国航空\n962International Shangri-la Hotels 香格里拉酒店\n963滴滴出租车\n964苏宁物流\n965ZANADU 赞那度\n966Holiday Inn 假日酒店\n967Altira Macau 澳门新濠峰\n968百世快递\n969Crowne Plaza 皇冠假日酒店\n970South Australian Tourism Commission 南澳大利亚旅游局\n971JUNEYAO AIR 吉祥航空\n972Club Med 地中海会\n973UPS 联合包裹\n974hotel INDIGO 英迪格酒店\n975厦门航空\n976Home Inn 如家\n977New World Hotels 新世界酒店\n978Agoda 安可达\n979Princess Cruises 公主邮轮\n980EVA AIR 长荣航空\n981Singapore Tourism 新加坡旅游局\n982Booking.com 缤客\n983HNA 海航集团\n984Air China 中国国际航空\n985Starwood 喜达屋\n986皇包车\n987Banyan Tree 悦榕庄\n988JP 日本邮政\n989Costa 歌诗达邮轮\n990Royal Caribbean International 皇家加勒比游轮\n991the puli hotel and spa 璞丽酒店\n992HKExpress 香港快运航空\n993NUPERIAI 明道酒店\n994闪送\n995去日本\n996台北捷运\n997厦门地铁\n998澳洲维多利亚州旅游局\n999The Ritz-Carlton 丽思卡尔顿\n1000Tourism New Zealand 新西兰旅游局\n1001The Opposite House 瑜舍\n1002Hytours 华远国旅\n1003Aeroflot 俄罗斯航空\n1004Toei 都营地铁\n1005Accor 法国雅高国际酒店集团\n1006VisitBritain 英国旅游局\n1007Visit California 加州旅游局\n1008来来会\n1009EasyCard 悠游卡\n1010台湾高铁\n1011无二之旅\n1012一道走\n1013Tencent 腾讯\n1014快手\n1015Canva\n1016网易新闻\n1017Baidu 百度\n1018滴滴出行\n1019Alibaba Group 阿里巴巴集团\n1020知乎\n1021阿里妈妈\n1022阿里云\n1023Google 谷歌\n1024momo 陌陌\n1025DingTalk 钉钉\n1026美团\n1027Adobe\n1028每日优鲜\n1029SOHU 搜狐\n1030ONEPLUS 一加\n1031今日头条\n1032得到\n1033ifeng 凤凰网\n1034贝壳找房\n1035易车\n1036网易文创\n1037菜鸟\n1038Youdao 有道\n1039人民日报传媒广告\n1040西瓜视频\n1041自如\n1042大众点评\n1043Microsoft 微软\n1044LinkedIn 领英\n1045夸克APP\n1046婚礼纪\n1047喜马拉雅\n1048腾讯微视\n1049智联招聘\n1050脉脉\n1051360\n1052WeChat 微信\n1053腾讯体育\n1054NTT DOCOMO\n1055Insta360\n1056Twitter 推特\n1057SINA 新浪\n1058夜听\n1059QQ\n1060滴滴顺风车\n1061美图\n1062腾讯新闻\n1063BOSS 直聘\n1064央视网\n1065转转\n1066Sogou 搜狗\n1067新华社\n1068HUPU 虎扑体育\n1069CBNData 第一财经商业数据中心\n1070天天P图\n1071新氧\n1072多点 Dmall\n1073猎聘网\n1074THE PAPER 澎湃新闻\n1075汽车之家\n107658同城\n1077T3出行\n1078唱吧\n1079轻生活\n1080字节跳动\n1081长投学堂\n1082Faceu 激萌\n1083虎牙\n1084网易大神\n1085zhenai.com 珍爱网\n1086皮皮虾 APP\n1087网易 LOFTER\n1088图虫\n1089HOME KING 好慷在家\n109051Talk 无忧英语\n1091千库网\n1092数英 DIGITALING\n1093北辰青年\n1094YOHO!\n1095包图网\n1096差评\n1097DAOY 数英年度奖\n1098界面新闻\n1099ZCOOL 站酷\n1100mobike 摩拜单车\n1101weibo 微博\n1102Qdaily 好奇心日报\n1103WAPER 微谱科技\n1104Tezign 特赞\n1105即刻\n110636氪\n1107PUPUPULA\n1108我要WhatYouNeed\n1109衣二三\n1110China Telecom 中国电信\n1111大宜宾\n1112印象笔记\n1113RIO 锐澳鸡尾酒\n1114江小白\n1115Budweiser 百威\n1116Tsingtao 青岛啤酒\n1117ABInBev 百威英博啤酒\n1118CORONA 科罗娜\n1119Heineken 喜力啤酒\n1120Harbin Beer 哈尔滨啤酒\n1121WULIANGYE 五粮液\n1122泸州老窖\n1123Absolut Vodka 绝对伏特加\n1124劲牌\n1125Snowbeer 雪花啤酒\n1126Duvel 督威\n1127赊店老酒\n1128BACARDI 百加得\n1129Smirnoff 斯米诺伏特加\n1130Hennessy 轩尼诗\n1131Ballantine’s 百龄坛\n1132Pernod Ricard 保乐力加\n1133Tiger 虎牌啤酒\n1134JOHNNIE WALKER 尊尼获加\n1135KIRIN 麒麟啤酒\n1136红星二锅头\n1137Tuborg 乐堡啤酒\n1138Martell 马爹利\n1139Chivas 芝华士\n1140MOUTAI 茅台\n1141Asahi 朝日啤酒\n1142Pearl River 珠江啤酒\n1143Jacob’s Creek 杰卡斯\n1144RemyMartin 人头马\n1145Carlsberg 嘉士伯\n1146YANJING BEER 燕京啤酒\n1147金六福\n1148TAIWAN BEER 台湾啤酒\n1149The Glenlivet 格兰威特\n1150Malibu Rum 马利宝\n1151Lamont 拉蒙\n1152San Miguel 生力啤酒\n1153Diageo 帝亚吉欧\n1154JACK DANIELS 杰克丹尼\n1155Guinness 健力士\n1156Moet & Chandon 酩悦香槟\n1157Glenfiddich 格兰菲迪\n1158JNC Group 剑南春\n1159水井坊\n1160Akata 阿卡塔\n1161湘窖酒业\n1162Singleton 苏格登\n1163李小虾青春酒\n1164FENJIU Group 汾酒\n1165小郎酒\n1166kronenbourg 1664 凯旋啤酒\n1167谷小酒\n1168金喜多\n1169CHANGYU 张裕\n1170SITIR 四特酒\n1171花田巷子\n1172Blue Ribbon 蓝带啤酒\n1173拾伍道\n1174Baileys 百利\n1175文王贡酒\n1176潘果\n1177imperatrice 母仪\n1178TOEwine\n1179粱大侠\n"
    }
   ],
   "source": [
    "# 设置后台运行\n",
    "chrome_options = webdriver.ChromeOptions()\n",
    "chrome_options.add_argument('--headless')\n",
    "driver = webdriver.Chrome(chrome_options=chrome_options)\n",
    "\n",
    "data =  pd.read_csv('data/industry/total.csv')\n",
    "\n",
    "for i in range(0,len(data)):\n",
    "    brandName = data.loc[i,'品牌']\n",
    "    path = \"/Volumes/Backup Plus/brandData/\" + brandName\n",
    "    isExists=os.path.exists(path)\n",
    "    if not isExists:\n",
    "        brandLink = data.loc[i,'链接']\n",
    "        brandID = brandLink.strip(\"https://www.digitaling.com/company/\")\n",
    "        findBrand(brandName,brandID)\n",
    "        print(str(i)+brandName)\n",
    "    else:\n",
    "        print(str(i)+brandName+\"爬过了\")\n",
    "\n",
    "driver.close()"
   ]
  },
  {
   "cell_type": "code",
   "execution_count": null,
   "metadata": {},
   "outputs": [],
   "source": []
  }
 ]
}