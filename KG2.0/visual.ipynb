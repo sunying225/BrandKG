{
 "metadata": {
  "language_info": {
   "codemirror_mode": {
    "name": "ipython",
    "version": 3
   },
   "file_extension": ".py",
   "mimetype": "text/x-python",
   "name": "python",
   "nbconvert_exporter": "python",
   "pygments_lexer": "ipython3",
   "version": "3.7.6"
  },
  "orig_nbformat": 2,
  "kernelspec": {
   "name": "python376jvsc74a57bd0569d6b7e9215e11aba41c6454007e5c1b78bad7df09dab765d8cf00362c40f03",
   "display_name": "Python 3.7.6 64-bit ('base': conda)"
  }
 },
 "nbformat": 4,
 "nbformat_minor": 2,
 "cells": [
  {
   "cell_type": "code",
   "execution_count": 145,
   "metadata": {},
   "outputs": [],
   "source": [
    "from pyecharts import options as opts\n",
    "from pyecharts.charts import Graph\n",
    "sys.path.append(\"/opt/miniconda3/lib/python3.7/site-packages\") \n",
    "import pandas as pd\n",
    "import numpy as np\n",
    "import os\n"
   ]
  },
  {
   "cell_type": "code",
   "execution_count": 146,
   "metadata": {},
   "outputs": [],
   "source": [
    "from py2neo import Node, Relationship,NodeMatcher,RelationshipMatcher\n",
    "import py2neo\n",
    "graph = py2neo.Graph(\n",
    "    \"http://localhost:7474\", \n",
    "    username=\"neo4j\", \n",
    "    password=\"123456\"\n",
    ")"
   ]
  },
  {
   "cell_type": "code",
   "execution_count": 127,
   "metadata": {},
   "outputs": [
    {
     "output_type": "execute_result",
     "data": {
      "text/plain": [
       "[Node('brand', name='星巴克', subtype='name')]"
      ]
     },
     "metadata": {},
     "execution_count": 127
    }
   ],
   "source": [
    "\n",
    "matcher_node = NodeMatcher(graph)\n",
    "matcher_relation = RelationshipMatcher(graph)\n",
    "node = matcher_node.match(\"brand\")\n",
    "# relation = matcher_relation.matcher(r_type=\"Cited\").limit(50)\n",
    "list(node)"
   ]
  },
  {
   "cell_type": "code",
   "execution_count": 157,
   "metadata": {},
   "outputs": [],
   "source": [
    "cypher_1 = \"MATCH (n) RETURN id(n) as id, n.name,n.subtype as subtype, labels(n) as label LIMIT 500\"\n",
    "cypher_2 = \"MATCH (a)-[r]->(b) RETURN id(a) as a_id,a.name, b.name, type(r), id(b) as b_id LIMIT 1000\"\n",
    "\n",
    "nodes = graph.run(cypher_1 ).data()\n",
    "links = graph.run(cypher_2 ).data()\n",
    "\n",
    "nodes = pd.DataFrame(nodes)\n",
    "links = pd.DataFrame(links)\n",
    "\n"
   ]
  },
  {
   "cell_type": "code",
   "execution_count": 158,
   "metadata": {},
   "outputs": [],
   "source": [
    "nodes_data = []\n",
    "links_data = []\n",
    "categories = []\n",
    "# 新建包含节点类别的字典，方便查询获得类别编号\n",
    "cateName = {'brand':0, 'customer':1, 'effect':2,'feature':3, 'identification':4, 'platform':5, 'product':6, 'project':7}\n",
    "\n",
    "# 添加结点\n",
    "for i in range(0,len(nodes)):\n",
    "    name = nodes.iloc[i,1]\n",
    "    cate = cateName[nodes.iloc[i,3][0]]\n",
    "    nodes_data.append({\"name\":name,\"symbolSize\":10,\"category\":cate})\n",
    "\n",
    "# 添加关系\n",
    "for i in range(0,len(links)):\n",
    "    nameA = links.iloc[i,1]\n",
    "    nameB = links.iloc[i,2]\n",
    "    typer = links.iloc[i,3]\n",
    "    links_data.append({\"source\":nameA,\"target\":nameB,\"value\":typer})\n",
    "  \n",
    "# 添加类别\n",
    "categories.append({\"name\":\"brand\"})\n",
    "categories.append({\"name\":\"customer\"})\n",
    "categories.append({\"name\":\"effect\"})\n",
    "categories.append({\"name\":\"feature\"})\n",
    "categories.append({\"name\":\"identification\"})\n",
    "categories.append({\"name\":\"platform\"})\n",
    "categories.append({\"name\":\"product\"})\n",
    "categories.append({\"name\":\"project\"})\n",
    "\n",
    "c = (\n",
    "    Graph(init_opts=opts.InitOpts(width=\"900px\", height=\"900px\"))\n",
    "    .add(\n",
    "        \"\",\n",
    "        nodes_data,\n",
    "        links_data,\n",
    "        categories,\n",
    "        repulsion=50, # 排斥力\n",
    "        edge_label=opts.LabelOpts(\n",
    "            is_show=True, position=\"middle\", formatter=\"{c}\"),\n",
    "        # is_rotate_label=True,\n",
    "        # label_opts=opts.LabelOpts(position=\"right\"),\n",
    "    )\n",
    "    .set_global_opts(\n",
    "        title_opts=opts.TitleOpts(title=\"brand knowledge graph\"),\n",
    "        legend_opts=opts.LegendOpts(orient=\"vertical\", pos_left=\"2%\", pos_top=\"20%\"),\n",
    "    )\n",
    "    .render(\"graph_with_edge_options.html\")\n",
    ")\n",
    "\n",
    "\n"
   ]
  },
  {
   "cell_type": "code",
   "execution_count": null,
   "metadata": {},
   "outputs": [],
   "source": []
  }
 ]
}