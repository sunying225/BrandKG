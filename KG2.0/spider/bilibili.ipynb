{
 "metadata": {
  "language_info": {
   "codemirror_mode": {
    "name": "ipython",
    "version": 3
   },
   "file_extension": ".py",
   "mimetype": "text/x-python",
   "name": "python",
   "nbconvert_exporter": "python",
   "pygments_lexer": "ipython3",
   "version": "3.7.6"
  },
  "orig_nbformat": 2,
  "kernelspec": {
   "name": "python376jvsc74a57bd0569d6b7e9215e11aba41c6454007e5c1b78bad7df09dab765d8cf00362c40f03",
   "display_name": "Python 3.7.6 64-bit ('base': conda)"
  }
 },
 "nbformat": 4,
 "nbformat_minor": 2,
 "cells": [
  {
   "cell_type": "code",
   "execution_count": 1,
   "metadata": {},
   "outputs": [],
   "source": [
    "import sys\n",
    "sys.path.append('/opt/miniconda3/lib/python3.7/site-packages')\n",
    "# from urllib.request import urlopen\n",
    "# import urllib\n",
    "# from urllib.error import HTTPError\n",
    "# from bs4 import BeautifulSoup\n",
    "import re\n",
    "import os\n",
    "import pandas as pd\n",
    "import numpy as np\n",
    "from selenium import webdriver\n",
    "from time import sleep"
   ]
  },
  {
   "cell_type": "code",
   "execution_count": 6,
   "metadata": {},
   "outputs": [],
   "source": [
    "# 设置\n",
    "# bilibili主页链接\n",
    "brand = \"星巴克\"\n",
    "link = \"https://space.bilibili.com/497969625/video\"\n",
    "filename = \"data/starbucksBilibili.csv\""
   ]
  },
  {
   "cell_type": "code",
   "execution_count": 3,
   "metadata": {},
   "outputs": [],
   "source": [
    "# 向文件中写入数据\n",
    "def writeData(file,content):\n",
    "    with open(file,'a') as f: # 如果filename不存在会自动创建， 'w'表示写数据，写之前会清空文件中的原有数据！\n",
    "        f.write(content)"
   ]
  },
  {
   "cell_type": "code",
   "execution_count": 4,
   "metadata": {},
   "outputs": [],
   "source": [
    "def getDataForVideo(link,filename):\n",
    "# 爬取单个视频数据，输入视频链接和储存数据的文档\n",
    "# 标题--title  点赞--like  投币--coin  收藏--collect  转发--share   简介--info  标签  \n",
    "    driver = webdriver.Chrome()\n",
    "    driver.get(link)\n",
    "\n",
    "    # 爬数据\n",
    "    title = driver.find_element_by_xpath(\"//*[@id='viewbox_report']/h1/span\").text\n",
    "    like = driver.find_element_by_xpath(\"//*[@id='arc_toolbar_report']/div[1]/span[1]\").text\n",
    "    coin = driver.find_element_by_xpath(\"//*[@id='arc_toolbar_report']/div[1]/span[2]\").text\n",
    "    collect = driver.find_element_by_xpath(\"//*[@id='arc_toolbar_report']/div[1]/span[3]\").text\n",
    "    share = driver.find_element_by_xpath(\"//*[@id='arc_toolbar_report']/div[1]/span[4]\").text\n",
    "    info = driver.find_element_by_xpath(\"//*[@id='v_desc']/div[2]\").text\n",
    "    info = info.replace('\\n', '，')\n",
    "\n",
    "    # 写入数据\n",
    "    get_a_result_like = 'project,name,'+title+',get_a_result,effect,like,'+ like +'\\n'\n",
    "    get_a_result_coin = 'project,name,'+title+',get_a_result,effect,coin,'+ coin +'\\n'\n",
    "    get_a_result_collect = 'project,name,'+title+',get_a_result,effect,collect,'+ collect +'\\n'\n",
    "    get_a_result_share = 'project,name,'+title+',get_a_result,effect,share,'+ share +'\\n'\n",
    "    have_feature_info = 'project,name,'+title+',have_feature,feature,info,'+ info +'\\n'\n",
    "\n",
    "    writeData(filename,get_a_result_like)\n",
    "    writeData(filename,get_a_result_coin)\n",
    "    writeData(filename,get_a_result_collect)\n",
    "    writeData(filename,get_a_result_share)\n",
    "    writeData(filename,have_feature_info)\n",
    "\n",
    "    # 爬tags，写tags\n",
    "    tags = driver.find_elements_by_xpath(\"//*[@id='v_tag']/ul/li\")\n",
    "    for i in range(0,len(tags)):\n",
    "        tag = tags[i].text\n",
    "        have_feature_tag = 'project,name,'+title+',have_feature,feature,tag,'+ tag +'\\n'\n",
    "        writeData(filename,have_feature_tag)\n",
    "\n",
    "    driver.close()"
   ]
  },
  {
   "cell_type": "code",
   "execution_count": 8,
   "metadata": {},
   "outputs": [
    {
     "output_type": "error",
     "ename": "NoSuchElementException",
     "evalue": "Message: no such element: Unable to locate element: {\"method\":\"xpath\",\"selector\":\"//*[@id='page-video']/div/div[1]/div/div/ul/li[1]/span\"}\n  (Session info: chrome=90.0.4430.93)\n",
     "traceback": [
      "\u001b[0;31m---------------------------------------------------------------------------\u001b[0m",
      "\u001b[0;31mNoSuchElementException\u001b[0m                    Traceback (most recent call last)",
      "\u001b[0;32m<ipython-input-8-3148c7e02617>\u001b[0m in \u001b[0;36m<module>\u001b[0;34m\u001b[0m\n\u001b[1;32m      4\u001b[0m \u001b[0mdriver\u001b[0m\u001b[0;34m.\u001b[0m\u001b[0mget\u001b[0m\u001b[0;34m(\u001b[0m\u001b[0mlink\u001b[0m\u001b[0;34m)\u001b[0m\u001b[0;34m\u001b[0m\u001b[0;34m\u001b[0m\u001b[0m\n\u001b[1;32m      5\u001b[0m \u001b[0;34m\u001b[0m\u001b[0m\n\u001b[0;32m----> 6\u001b[0;31m \u001b[0mvideoNum\u001b[0m \u001b[0;34m=\u001b[0m \u001b[0mdriver\u001b[0m\u001b[0;34m.\u001b[0m\u001b[0mfind_element_by_xpath\u001b[0m\u001b[0;34m(\u001b[0m\u001b[0;34m\"//*[@id='page-video']/div/div[1]/div/div/ul/li[1]/span\"\u001b[0m\u001b[0;34m)\u001b[0m\u001b[0;34m.\u001b[0m\u001b[0mtext\u001b[0m\u001b[0;34m\u001b[0m\u001b[0;34m\u001b[0m\u001b[0m\n\u001b[0m\u001b[1;32m      7\u001b[0m \u001b[0mvideoNum\u001b[0m \u001b[0;34m=\u001b[0m \u001b[0mint\u001b[0m\u001b[0;34m(\u001b[0m\u001b[0mvideoNum\u001b[0m\u001b[0;34m)\u001b[0m\u001b[0;34m\u001b[0m\u001b[0;34m\u001b[0m\u001b[0m\n\u001b[1;32m      8\u001b[0m \u001b[0;31m# print(videoNum)\u001b[0m\u001b[0;34m\u001b[0m\u001b[0;34m\u001b[0m\u001b[0;34m\u001b[0m\u001b[0m\n",
      "\u001b[0;32m/opt/miniconda3/lib/python3.7/site-packages/selenium/webdriver/remote/webdriver.py\u001b[0m in \u001b[0;36mfind_element_by_xpath\u001b[0;34m(self, xpath)\u001b[0m\n\u001b[1;32m    392\u001b[0m             \u001b[0melement\u001b[0m \u001b[0;34m=\u001b[0m \u001b[0mdriver\u001b[0m\u001b[0;34m.\u001b[0m\u001b[0mfind_element_by_xpath\u001b[0m\u001b[0;34m(\u001b[0m\u001b[0;34m'//div/td[1]'\u001b[0m\u001b[0;34m)\u001b[0m\u001b[0;34m\u001b[0m\u001b[0;34m\u001b[0m\u001b[0m\n\u001b[1;32m    393\u001b[0m         \"\"\"\n\u001b[0;32m--> 394\u001b[0;31m         \u001b[0;32mreturn\u001b[0m \u001b[0mself\u001b[0m\u001b[0;34m.\u001b[0m\u001b[0mfind_element\u001b[0m\u001b[0;34m(\u001b[0m\u001b[0mby\u001b[0m\u001b[0;34m=\u001b[0m\u001b[0mBy\u001b[0m\u001b[0;34m.\u001b[0m\u001b[0mXPATH\u001b[0m\u001b[0;34m,\u001b[0m \u001b[0mvalue\u001b[0m\u001b[0;34m=\u001b[0m\u001b[0mxpath\u001b[0m\u001b[0;34m)\u001b[0m\u001b[0;34m\u001b[0m\u001b[0;34m\u001b[0m\u001b[0m\n\u001b[0m\u001b[1;32m    395\u001b[0m \u001b[0;34m\u001b[0m\u001b[0m\n\u001b[1;32m    396\u001b[0m     \u001b[0;32mdef\u001b[0m \u001b[0mfind_elements_by_xpath\u001b[0m\u001b[0;34m(\u001b[0m\u001b[0mself\u001b[0m\u001b[0;34m,\u001b[0m \u001b[0mxpath\u001b[0m\u001b[0;34m)\u001b[0m\u001b[0;34m:\u001b[0m\u001b[0;34m\u001b[0m\u001b[0;34m\u001b[0m\u001b[0m\n",
      "\u001b[0;32m/opt/miniconda3/lib/python3.7/site-packages/selenium/webdriver/remote/webdriver.py\u001b[0m in \u001b[0;36mfind_element\u001b[0;34m(self, by, value)\u001b[0m\n\u001b[1;32m    976\u001b[0m         return self.execute(Command.FIND_ELEMENT, {\n\u001b[1;32m    977\u001b[0m             \u001b[0;34m'using'\u001b[0m\u001b[0;34m:\u001b[0m \u001b[0mby\u001b[0m\u001b[0;34m,\u001b[0m\u001b[0;34m\u001b[0m\u001b[0;34m\u001b[0m\u001b[0m\n\u001b[0;32m--> 978\u001b[0;31m             'value': value})['value']\n\u001b[0m\u001b[1;32m    979\u001b[0m \u001b[0;34m\u001b[0m\u001b[0m\n\u001b[1;32m    980\u001b[0m     \u001b[0;32mdef\u001b[0m \u001b[0mfind_elements\u001b[0m\u001b[0;34m(\u001b[0m\u001b[0mself\u001b[0m\u001b[0;34m,\u001b[0m \u001b[0mby\u001b[0m\u001b[0;34m=\u001b[0m\u001b[0mBy\u001b[0m\u001b[0;34m.\u001b[0m\u001b[0mID\u001b[0m\u001b[0;34m,\u001b[0m \u001b[0mvalue\u001b[0m\u001b[0;34m=\u001b[0m\u001b[0;32mNone\u001b[0m\u001b[0;34m)\u001b[0m\u001b[0;34m:\u001b[0m\u001b[0;34m\u001b[0m\u001b[0;34m\u001b[0m\u001b[0m\n",
      "\u001b[0;32m/opt/miniconda3/lib/python3.7/site-packages/selenium/webdriver/remote/webdriver.py\u001b[0m in \u001b[0;36mexecute\u001b[0;34m(self, driver_command, params)\u001b[0m\n\u001b[1;32m    319\u001b[0m         \u001b[0mresponse\u001b[0m \u001b[0;34m=\u001b[0m \u001b[0mself\u001b[0m\u001b[0;34m.\u001b[0m\u001b[0mcommand_executor\u001b[0m\u001b[0;34m.\u001b[0m\u001b[0mexecute\u001b[0m\u001b[0;34m(\u001b[0m\u001b[0mdriver_command\u001b[0m\u001b[0;34m,\u001b[0m \u001b[0mparams\u001b[0m\u001b[0;34m)\u001b[0m\u001b[0;34m\u001b[0m\u001b[0;34m\u001b[0m\u001b[0m\n\u001b[1;32m    320\u001b[0m         \u001b[0;32mif\u001b[0m \u001b[0mresponse\u001b[0m\u001b[0;34m:\u001b[0m\u001b[0;34m\u001b[0m\u001b[0;34m\u001b[0m\u001b[0m\n\u001b[0;32m--> 321\u001b[0;31m             \u001b[0mself\u001b[0m\u001b[0;34m.\u001b[0m\u001b[0merror_handler\u001b[0m\u001b[0;34m.\u001b[0m\u001b[0mcheck_response\u001b[0m\u001b[0;34m(\u001b[0m\u001b[0mresponse\u001b[0m\u001b[0;34m)\u001b[0m\u001b[0;34m\u001b[0m\u001b[0;34m\u001b[0m\u001b[0m\n\u001b[0m\u001b[1;32m    322\u001b[0m             response['value'] = self._unwrap_value(\n\u001b[1;32m    323\u001b[0m                 response.get('value', None))\n",
      "\u001b[0;32m/opt/miniconda3/lib/python3.7/site-packages/selenium/webdriver/remote/errorhandler.py\u001b[0m in \u001b[0;36mcheck_response\u001b[0;34m(self, response)\u001b[0m\n\u001b[1;32m    240\u001b[0m                 \u001b[0malert_text\u001b[0m \u001b[0;34m=\u001b[0m \u001b[0mvalue\u001b[0m\u001b[0;34m[\u001b[0m\u001b[0;34m'alert'\u001b[0m\u001b[0;34m]\u001b[0m\u001b[0;34m.\u001b[0m\u001b[0mget\u001b[0m\u001b[0;34m(\u001b[0m\u001b[0;34m'text'\u001b[0m\u001b[0;34m)\u001b[0m\u001b[0;34m\u001b[0m\u001b[0;34m\u001b[0m\u001b[0m\n\u001b[1;32m    241\u001b[0m             \u001b[0;32mraise\u001b[0m \u001b[0mexception_class\u001b[0m\u001b[0;34m(\u001b[0m\u001b[0mmessage\u001b[0m\u001b[0;34m,\u001b[0m \u001b[0mscreen\u001b[0m\u001b[0;34m,\u001b[0m \u001b[0mstacktrace\u001b[0m\u001b[0;34m,\u001b[0m \u001b[0malert_text\u001b[0m\u001b[0;34m)\u001b[0m\u001b[0;34m\u001b[0m\u001b[0;34m\u001b[0m\u001b[0m\n\u001b[0;32m--> 242\u001b[0;31m         \u001b[0;32mraise\u001b[0m \u001b[0mexception_class\u001b[0m\u001b[0;34m(\u001b[0m\u001b[0mmessage\u001b[0m\u001b[0;34m,\u001b[0m \u001b[0mscreen\u001b[0m\u001b[0;34m,\u001b[0m \u001b[0mstacktrace\u001b[0m\u001b[0;34m)\u001b[0m\u001b[0;34m\u001b[0m\u001b[0;34m\u001b[0m\u001b[0m\n\u001b[0m\u001b[1;32m    243\u001b[0m \u001b[0;34m\u001b[0m\u001b[0m\n\u001b[1;32m    244\u001b[0m     \u001b[0;32mdef\u001b[0m \u001b[0m_value_or_default\u001b[0m\u001b[0;34m(\u001b[0m\u001b[0mself\u001b[0m\u001b[0;34m,\u001b[0m \u001b[0mobj\u001b[0m\u001b[0;34m,\u001b[0m \u001b[0mkey\u001b[0m\u001b[0;34m,\u001b[0m \u001b[0mdefault\u001b[0m\u001b[0;34m)\u001b[0m\u001b[0;34m:\u001b[0m\u001b[0;34m\u001b[0m\u001b[0;34m\u001b[0m\u001b[0m\n",
      "\u001b[0;31mNoSuchElementException\u001b[0m: Message: no such element: Unable to locate element: {\"method\":\"xpath\",\"selector\":\"//*[@id='page-video']/div/div[1]/div/div/ul/li[1]/span\"}\n  (Session info: chrome=90.0.4430.93)\n"
     ]
    }
   ],
   "source": [
    "# 爬取bilibili视频信息\n",
    "# 以星巴克为例，修改up主主页链接爬取其他内容\n",
    "driver = webdriver.Chrome()\n",
    "driver.get(link)\n",
    "\n",
    "videoNum = driver.find_element_by_xpath(\"//*[@id='page-video']/div/div[1]/div/div/ul/li[1]/span\").text\n",
    "videoNum = int(videoNum)\n",
    "# print(videoNum)\n",
    "\n",
    "#------------------找到需要的元素-----------#\n",
    "# 品牌--brand  视频名称--title  视频时长--length 观看量--playtimes \n",
    "# 投放时间--puttime  视频链接--link\n",
    "\n",
    "for i in range(0,videoNum):\n",
    "    title = driver.find_element_by_xpath(\"//*[@id='submit-video-list']/ul[2]/li[\"+ str(i+1) + \"]/a[2]\").text\n",
    "    length = driver.find_element_by_xpath(\"//*[@id='submit-video-list']/ul[2]/li[\" + str(i+1) + \"]/a[1]/span[1]\").text\n",
    "    playtimes = driver.find_element_by_xpath(\"//*[@id='submit-video-list']/ul[2]/li[\" + str(i+1) + \"]/div/span[1]\").text\n",
    "    puttime = driver.find_element_by_xpath(\"//*[@id='submit-video-list']/ul[2]/li[\" + str(i+1) + \"]/div/span[2]\").text\n",
    "    link = driver.find_element_by_xpath(\"//*[@id='submit-video-list']/ul[2]/li[\" + str(i+1) + \"]/a[1]\").get_attribute(\"href\")\n",
    "    # print(link)\n",
    "    getDataForVideo(link,filename)\n",
    "\n",
    "\n",
    "#--------------------数据储存---------------#\n",
    "# 写入数据到表格中\n",
    "    have_project = 'brand,name,'+brand+',have_project,project,name,'+title+'\\n'\n",
    "    be_showed_on = 'project,name,'+title+',be_showed_on,platform,name,bilibili\\n'\n",
    "    have_feature_length = 'project,name,'+title+',have_feature,feature,length,'+ length +'\\n'\n",
    "    have_feature_puttime = 'project,name,'+title+',have_feature,feature,time,'+ puttime +'\\n'\n",
    "    have_feature_link = 'project,name,'+title+',have_feature,feature,link,'+ link +'\\n'\n",
    "    get_a_result_playtimes = 'project,name,'+title+',get_a_result,effect,play times,'+ playtimes +'\\n'\n",
    "\n",
    "\n",
    "    writeData(filename,have_project)\n",
    "    writeData(filename,be_showed_on) \n",
    "    writeData(filename,have_feature_length) \n",
    "    writeData(filename,have_feature_puttime) \n",
    "    writeData(filename,have_feature_link) \n",
    "    writeData(filename,get_a_result_playtimes) \n",
    "\n",
    "driver.close()"
   ]
  },
  {
   "cell_type": "code",
   "execution_count": null,
   "metadata": {},
   "outputs": [],
   "source": []
  }
 ]
}