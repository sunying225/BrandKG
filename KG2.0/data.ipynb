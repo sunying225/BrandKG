{
 "metadata": {
  "language_info": {
   "codemirror_mode": {
    "name": "ipython",
    "version": 3
   },
   "file_extension": ".py",
   "mimetype": "text/x-python",
   "name": "python",
   "nbconvert_exporter": "python",
   "pygments_lexer": "ipython3",
   "version": "3.7.6-final"
  },
  "orig_nbformat": 2,
  "kernelspec": {
   "name": "python376jvsc74a57bd0569d6b7e9215e11aba41c6454007e5c1b78bad7df09dab765d8cf00362c40f03",
   "display_name": "Python 3.7.6 64-bit ('base': conda)"
  }
 },
 "nbformat": 4,
 "nbformat_minor": 2,
 "cells": [
  {
   "cell_type": "code",
   "execution_count": null,
   "metadata": {},
   "outputs": [],
   "source": [
    "sys.path.append(\"/opt/miniconda3/lib/python3.7/site-packages\") \n",
    "import pandas as pd\n",
    "import numpy as np\n",
    "import os\n",
    "import re\n",
    "from py2neo import Node, Relationship, Graph\n",
    "graph = Graph(\n",
    "    \"http://localhost:7474\", \n",
    "    username=\"neo4j\", \n",
    "    password=\"123456\"\n",
    ")\n"
   ]
  },
  {
   "cell_type": "code",
   "execution_count": 2,
   "metadata": {},
   "outputs": [],
   "source": [
    "# 写入数据到表格中\n",
    "def writeData(filename):\n",
    "    with open(filename,'a') as f: # 如果filename不存在会自动创建， 'w'表示写数据，写之前会清空文件中的原有数据！\n",
    "        f.write(\"I am Meringue.\\n\")\n"
   ]
  },
  {
   "cell_type": "code",
   "execution_count": null,
   "metadata": {},
   "outputs": [],
   "source": [
    "# 将一个三元组的信息写入到数据库中\n",
    "def createSPO(atype,a,btype,b,rtype):\n",
    "    a_have = graph.nodes.match(atype,name=a).first()\n",
    "    if a_have is None:\n",
    "        a_have = Node(atype,name=a)\n",
    "        graph.create(a_have)\n",
    "\n",
    "    b_have = graph.nodes.match(btype,name=b).first()\n",
    "    if b_have is None:\n",
    "        b_have = Node(btype,name=b)\n",
    "        graph.create(b_have)\n",
    "\n",
    "    r = Relationship(a_have, rtype, b_have) \n",
    "    graph.create(r) "
   ]
  }
 ]
}