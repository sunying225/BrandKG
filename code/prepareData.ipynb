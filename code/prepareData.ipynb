{
 "metadata": {
  "language_info": {
   "codemirror_mode": {
    "name": "ipython",
    "version": 3
   },
   "file_extension": ".py",
   "mimetype": "text/x-python",
   "name": "python",
   "nbconvert_exporter": "python",
   "pygments_lexer": "ipython3",
   "version": "3.7.6-final"
  },
  "orig_nbformat": 2,
  "kernelspec": {
   "name": "python3",
   "display_name": "Python 3",
   "language": "python"
  }
 },
 "nbformat": 4,
 "nbformat_minor": 2,
 "cells": [
  {
   "cell_type": "code",
   "execution_count": 24,
   "metadata": {},
   "outputs": [],
   "source": [
    "sys.path.append(\"/opt/miniconda3/lib/python3.7/site-packages\") \n",
    "import pandas as pd\n",
    "import os\n",
    "import numpy as np\n",
    "from py2neo import Node, Relationship, Graph\n",
    "graph = Graph(\n",
    "    \"http://localhost:7474\", \n",
    "    username=\"neo4j\", \n",
    "    password=\"123456\"\n",
    ")\n"
   ]
  },
  {
   "cell_type": "code",
   "execution_count": 40,
   "metadata": {},
   "outputs": [],
   "source": [
    "brandData = pd.read_csv('../data/品牌信息.csv')\n",
    "relation = brandData.columns # 表头 - 关系\n",
    "nodeType = brandData.iloc[0] # 第一行 - 类别\n",
    "for i in range(1,len(brandData)):\n",
    "    createNodeByBrand(brandData.iloc[i])"
   ]
  },
  {
   "cell_type": "code",
   "execution_count": 25,
   "metadata": {},
   "outputs": [],
   "source": [
    "def createNodeByBrand(d):\n",
    "    for j in range(1,len(relation)):\n",
    "        atype = '品牌'\n",
    "        a = d.iloc[0]\n",
    "        btype = nodeType[j]\n",
    "        b = str(d.iloc[j]).split(' / ')\n",
    "        rtype = relation[j]\n",
    "        for i in range(len(b)):\n",
    "            if b[i] =='nan':\n",
    "                pass\n",
    "            else:\n",
    "                createSPO(atype,a,btype,b[i],rtype)\n"
   ]
  },
  {
   "cell_type": "code",
   "execution_count": null,
   "metadata": {},
   "outputs": [],
   "source": [
    "brandProject = pd.read_csv('../data/项目信息.csv')\n",
    "relation = brandProject.columns # 表头 - 关系\n",
    "nodeType = brandProject.iloc[0] # 第一行 - 类别\n",
    "\n",
    "for i in range(1,len(brandProject)):\n",
    "    createProject(brandProject.iloc[i])\n",
    "    # print('------success for '+brandProject.iloc[i][0]+'-------')"
   ]
  },
  {
   "cell_type": "code",
   "execution_count": 26,
   "metadata": {},
   "outputs": [],
   "source": [
    "def createProject(d):\n",
    "    for j in range(1,len(relation)):\n",
    "        atype = nodeType[0]\n",
    "        a = d.iloc[0]\n",
    "        btype = nodeType[j]\n",
    "        b = str(d.iloc[j]).split(' / ')\n",
    "        rtype = relation[j]\n",
    "        for i in range(len(b)):\n",
    "            if b[i] =='nan':\n",
    "                pass\n",
    "            else:\n",
    "                createSPO(atype,a,btype,b[i],rtype)"
   ]
  },
  {
   "cell_type": "code",
   "execution_count": 39,
   "metadata": {},
   "outputs": [],
   "source": [
    "def createSPO(atype,a,btype,b,rtype):\n",
    "    a_have = graph.nodes.match(atype,name=a).first()\n",
    "    if a_have is None:\n",
    "        a_have = Node(atype,name=a)\n",
    "        graph.create(a_have)\n",
    "\n",
    "    b_have = graph.nodes.match(btype,name=b).first()\n",
    "    if b_have is None:\n",
    "        b_have = Node(btype,name=b)\n",
    "        graph.create(b_have)\n",
    "\n",
    "    r = Relationship(a_have, rtype, b_have) \n",
    "    graph.create(r) "
   ]
  }
 ]
}