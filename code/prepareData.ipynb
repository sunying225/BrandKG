{
 "metadata": {
  "language_info": {
   "codemirror_mode": {
    "name": "ipython",
    "version": 3
   },
   "file_extension": ".py",
   "mimetype": "text/x-python",
   "name": "python",
   "nbconvert_exporter": "python",
   "pygments_lexer": "ipython3",
   "version": "3.7.6-final"
  },
  "orig_nbformat": 2,
  "kernelspec": {
   "name": "python3",
   "display_name": "Python 3",
   "language": "python"
  }
 },
 "nbformat": 4,
 "nbformat_minor": 2,
 "cells": [
  {
   "cell_type": "code",
   "execution_count": 24,
   "metadata": {},
   "outputs": [],
   "source": [
    "import pandas as pd\n",
    "import os\n",
    "import numpy as np\n",
    "sys.path.append(\"/opt/miniconda3/lib/python3.7/site-packages\") \n",
    "from py2neo import Node, Relationship, Graph\n",
    "graph = Graph(\n",
    "    \"http://localhost:7474\", \n",
    "    username=\"neo4j\", \n",
    "    password=\"123456\"\n",
    ")\n"
   ]
  },
  {
   "cell_type": "code",
   "execution_count": 40,
   "metadata": {},
   "outputs": [],
   "source": [
    "brandData = pd.read_csv('../data/品牌信息.csv')\n",
    "header1 = brandData.columns # 表头\n",
    "data = brandData.iloc[0] # 读取行\n",
    "for i in range(len(brandData)):\n",
    "    createNodeByBrand(brandData.iloc[i])"
   ]
  },
  {
   "cell_type": "code",
   "execution_count": 25,
   "metadata": {},
   "outputs": [],
   "source": [
    "\n",
    "\n",
    "def createNodeByBrand(d):\n",
    "    for j in range(1,len(header1)):\n",
    "        atype = '品牌'\n",
    "        a = d.iloc[0]\n",
    "        btype = header1[j]\n",
    "        b = str(d.iloc[j]).split(' / ')\n",
    "        rtype = header1[j]\n",
    "        for i in range(len(b)):\n",
    "            if b[i] =='nan':\n",
    "                pass\n",
    "            else:\n",
    "                createSPO(atype,a,btype,b[i],rtype)\n",
    "\n"
   ]
  },
  {
   "cell_type": "code",
   "execution_count": null,
   "metadata": {},
   "outputs": [],
   "source": [
    "brandProject = pd.read_csv('../data/项目信息.csv')\n",
    "header2 = brandProject.columns # 表头\n",
    "\n",
    "for i in range(len(brandProject)):\n",
    "    data = brandProject.iloc[i] # 读取行\n",
    "    createProject(brandProject.iloc[i])\n",
    "    # print('------success for '+brandProject.iloc[i][0]+'-------')"
   ]
  },
  {
   "cell_type": "code",
   "execution_count": 26,
   "metadata": {},
   "outputs": [],
   "source": [
    "def createProject(d):\n",
    "    for j in range(len(header2)):\n",
    "        atype = header2[0]\n",
    "        a = d.iloc[0]\n",
    "        btype = header2[j]\n",
    "        b = str(d.iloc[j]).split(' / ')\n",
    "        rtype = header2[j]\n",
    "        for i in range(len(b)):\n",
    "            if b[i] =='nan':\n",
    "                pass\n",
    "            else:\n",
    "                createSPO(atype,a,btype,b[i],rtype)"
   ]
  },
  {
   "cell_type": "code",
   "execution_count": 39,
   "metadata": {},
   "outputs": [],
   "source": [
    "def createSPO(atype,a,btype,b,rtype):\n",
    "    a_have = graph.nodes.match(atype,name=a).first()\n",
    "    if a_have is None:\n",
    "        a_have = Node(atype,name=a)\n",
    "        graph.create(a_have)\n",
    "\n",
    "    b_have = graph.nodes.match(btype,name=b).first()\n",
    "    if b_have is None:\n",
    "        b_have = Node(btype,name=b)\n",
    "        graph.create(b_have)\n",
    "\n",
    "\n",
    "    r = Relationship(a_have, rtype, b_have) \n",
    "    graph.create(r) "
   ]
  },
  {
   "cell_type": "code",
   "execution_count": 35,
   "metadata": {},
   "outputs": [],
   "source": [
    "brandData = pd.read_csv('../data/品牌信息.csv')\n",
    "header1 = brandData.columns # 表头1\n",
    "brandProject = pd.read_csv('../data/项目信息.csv')\n",
    "header2 = brandProject.columns # 表头2\n",
    "totalHeader = np.concatenate((header1.values,header2.values),axis=0)\n",
    "\n",
    "def checkNode(n):\n",
    "    for i in range(len(totalHeader)):\n",
    "        haveNode = False\n",
    "        node = graph.nodes.match(totalHeader[i],name=n).first()\n",
    "        if node is None:\n",
    "            haveNode += False\n",
    "        else:\n",
    "            haveNode += True\n",
    "\n",
    "    return haveNode"
   ]
  },
  {
   "cell_type": "code",
   "execution_count": null,
   "metadata": {},
   "outputs": [],
   "source": []
  }
 ]
}