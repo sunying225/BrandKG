{
 "metadata": {
  "language_info": {
   "codemirror_mode": {
    "name": "ipython",
    "version": 3
   },
   "file_extension": ".py",
   "mimetype": "text/x-python",
   "name": "python",
   "nbconvert_exporter": "python",
   "pygments_lexer": "ipython3",
   "version": "3.7.6-final"
  },
  "orig_nbformat": 2,
  "kernelspec": {
   "name": "python3",
   "display_name": "Python 3",
   "language": "python"
  }
 },
 "nbformat": 4,
 "nbformat_minor": 2,
 "cells": [
  {
   "cell_type": "code",
   "execution_count": 20,
   "metadata": {},
   "outputs": [],
   "source": [
    "import os\n",
    "sys.path.append(\"/opt/miniconda3/lib/python3.7/site-packages\") \n",
    "import tensorflow_hub as hub\n",
    "import numpy as np\n",
    "import pandas as pd\n"
   ]
  },
  {
   "cell_type": "code",
   "execution_count": null,
   "metadata": {},
   "outputs": [],
   "source": [
    "\n",
    "\n",
    "# load a pre-trained embedding\n",
    "# Token based text embedding trained on Chinese Google News 100B corpus.\n",
    "# https://tfhub.dev/google/nnlm-zh-dim50/2\n",
    "embed = hub.load(\"https://tfhub.dev/google/nnlm-zh-dim50/2\")\n"
   ]
  },
  {
   "cell_type": "code",
   "execution_count": null,
   "metadata": {},
   "outputs": [],
   "source": [
    "embed([\"学生\"]) # turn a string into a tensor "
   ]
  },
  {
   "cell_type": "code",
   "execution_count": null,
   "metadata": {},
   "outputs": [],
   "source": [
    "def cos_sim(vector_a, vector_b):\n",
    "    \"\"\"\n",
    "    计算两个向量之间的余弦相似度\n",
    "    :param vector_a: 向量 a \n",
    "    :param vector_b: 向量 b\n",
    "    :return: sim\n",
    "    \"\"\"\n",
    "    vector_a = np.mat(vector_a)\n",
    "    vector_b = np.mat(vector_b)\n",
    "    \n",
    "    num = float(vector_a * vector_b.T)\n",
    "    denom = np.linalg.norm(vector_a) * np.linalg.norm(vector_b)\n",
    "    \n",
    "    cos = num / denom\n",
    "    sim = 0.5 + 0.5 * cos\n",
    "    \n",
    "    return sim\n",
    "\n",
    "def embeddings_cos_sim(ab):\n",
    "    embeddings = embed(ab)\n",
    "    B=embeddings.numpy()[1]\n",
    "    A=embeddings.numpy()[0]\n",
    "    print(ab, cos_sim(A, B))"
   ]
  },
  {
   "cell_type": "code",
   "execution_count": null,
   "metadata": {},
   "outputs": [],
   "source": [
    "personality = ['纯朴的','顾家的','小镇的','道德的','真实的','守信的','新颖的','纯正的','永恒的','感情的','友善的','温馨的','时髦的','刺激的','非凡的','酷酷的','年轻的','外向的','独特的','幽默的','文艺的','进取的','独立的','当代的','勤奋的','安全的','有效的','技术的','合群的','认真的','自信的','领导的','气场的','魅力的','好看的','卓尔的','温和的','女性的','柔顺的','阳刚的','西部的','积极的','强硬的','粗犷的','耿直的']"
   ]
  },
  {
   "cell_type": "code",
   "execution_count": null,
   "metadata": {},
   "outputs": [],
   "source": [
    "embeddings_cos_sim([personality,\"狗\"])"
   ]
  },
  {
   "cell_type": "code",
   "execution_count": 23,
   "metadata": {},
   "outputs": [
    {
     "output_type": "execute_result",
     "data": {
      "text/plain": [
       "认识（识别性）             品牌名称\n",
       "Unnamed: 1            商标\n",
       "Unnamed: 2          所属行业\n",
       "Unnamed: 3            国家\n",
       "Unnamed: 4            口号\n",
       "Unnamed: 5            颜色\n",
       "Unnamed: 6           吉祥物\n",
       "Unnamed: 7     辅助图形/视觉规范\n",
       "认知（传播性）             产品特点\n",
       "Unnamed: 9         产品（图）\n",
       "Unnamed: 10           听觉\n",
       "Unnamed: 11           嗅觉\n",
       "Unnamed: 12           味觉\n",
       "Unnamed: 13           触觉\n",
       "Unnamed: 14         用户认知\n",
       "Unnamed: 15         相关词条\n",
       "Unnamed: 16         目标用户\n",
       "认同（调性）              品牌个性\n",
       "Unnamed: 18       品牌设计风格\n",
       "Unnamed: 19         品牌特点\n",
       "Unnamed: 20         品牌优势\n",
       "Unnamed: 21         品牌文化\n",
       "Unnamed: 22         品牌故事\n",
       "Unnamed: 23     brandURL\n",
       "Unnamed: 24          NaN\n",
       "Unnamed: 25          NaN\n",
       "Unnamed: 26          NaN\n",
       "Unnamed: 27          NaN\n",
       "Unnamed: 28          NaN\n",
       "Unnamed: 29          NaN\n",
       "Unnamed: 30          NaN\n",
       "Unnamed: 31          NaN\n",
       "Unnamed: 32          NaN\n",
       "Unnamed: 33          NaN\n",
       "Name: 0, dtype: object"
      ]
     },
     "metadata": {},
     "execution_count": 23
    }
   ],
   "source": [
    "brandData = pd.read_csv('../data/品牌信息.csv')\n",
    "nodeType = brandData.columns # 表头 - 关系\n",
    "nodeType = brandData.iloc[0] # 第一行 - 类别\n",
    "nodeType"
   ]
  },
  {
   "cell_type": "code",
   "execution_count": null,
   "metadata": {},
   "outputs": [],
   "source": []
  }
 ]
}