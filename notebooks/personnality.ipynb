{
 "metadata": {
  "language_info": {
   "codemirror_mode": {
    "name": "ipython",
    "version": 3
   },
   "file_extension": ".py",
   "mimetype": "text/x-python",
   "name": "python",
   "nbconvert_exporter": "python",
   "pygments_lexer": "ipython3",
   "version": "3.7.6-final"
  },
  "orig_nbformat": 2,
  "kernelspec": {
   "name": "python3",
   "display_name": "Python 3",
   "language": "python"
  }
 },
 "nbformat": 4,
 "nbformat_minor": 2,
 "cells": [
  {
   "cell_type": "code",
   "execution_count": null,
   "metadata": {},
   "outputs": [],
   "source": [
    "import os\n",
    "sys.path.append(\"/opt/miniconda3/lib/python3.7/site-packages\") \n",
    "import tensorflow_hub as hub\n",
    "import numpy as np\n",
    "import pandas as pd\n"
   ]
  },
  {
   "cell_type": "code",
   "execution_count": null,
   "metadata": {},
   "outputs": [],
   "source": [
    "# load a pre-trained embedding\n",
    "# Token based text embedding trained on Chinese Google News 100B corpus.\n",
    "# https://tfhub.dev/google/nnlm-zh-dim50/2\n",
    "embed = hub.load(\"https://tfhub.dev/google/nnlm-zh-dim50/2\")\n"
   ]
  },
  {
   "cell_type": "code",
   "execution_count": null,
   "metadata": {},
   "outputs": [],
   "source": [
    "def cos_sim(vector_a, vector_b):\n",
    "    \"\"\"\n",
    "    计算两个向量之间的余弦相似度\n",
    "    :param vector_a: 向量 a \n",
    "    :param vector_b: 向量 b\n",
    "    :return: sim\n",
    "    \"\"\"\n",
    "    vector_a = np.mat(vector_a)\n",
    "    vector_b = np.mat(vector_b)\n",
    "    \n",
    "    num = float(vector_a * vector_b.T)\n",
    "    denom = np.linalg.norm(vector_a) * np.linalg.norm(vector_b)\n",
    "    \n",
    "    cos = num / denom\n",
    "    sim = 0.5 + 0.5 * cos\n",
    "    \n",
    "    return sim\n",
    "\n",
    "def embeddings_cos_sim(ab):\n",
    "    embeddings = embed(ab)\n",
    "    B=embeddings.numpy()[1]\n",
    "    A=embeddings.numpy()[0]\n",
    "    return cos_sim(A, B)\n",
    "   # print(ab, cos_sim(A, B))"
   ]
  },
  {
   "cell_type": "code",
   "execution_count": null,
   "metadata": {},
   "outputs": [],
   "source": [
    "personality = ['纯朴的','顾家的','小镇的','道德的','真实的','守信的','新颖的','纯正的','永恒的','感情的','友善的','温馨的','时髦的','刺激的','非凡的','酷酷的','年轻的','外向的','独特的','幽默的','文艺的','进取的','独立的','当代的','勤奋的','安全的','有效的','技术的','合群的','认真的','自信的','领导的','气场的','魅力的','好看的','卓尔的','温和的','女性的','柔顺的','阳刚的','西部的','积极的','强硬的','粗犷的','耿直的']"
   ]
  },
  {
   "cell_type": "code",
   "execution_count": null,
   "metadata": {},
   "outputs": [],
   "source": [
    "brandData = pd.read_csv('../data/品牌信息.csv')\n",
    "\n",
    "for i in range(1,len(brandData)):\n",
    "    data = brandData.iloc[i] \n",
    "    print(data[0]+'\\n')\n",
    "    # brandPersonalityMin(data)\n",
    "    brandPersonalityMean(data)\n"
   ]
  },
  {
   "cell_type": "code",
   "execution_count": null,
   "metadata": {},
   "outputs": [],
   "source": [
    "# 找最小值\n",
    "def brandPersonalityMin(data):\n",
    "    dataNeed = (data[23] +' / '+ data[24] +' / '+ data[25]).split(' / ')\n",
    "    m = 0\n",
    "    p = 'test'\n",
    "    k = 'test'\n",
    "    for i in dataNeed:\n",
    "        for j in personality:\n",
    "            similar = embeddings_cos_sim([i,j])\n",
    "            if similar > m:\n",
    "                m = similar\n",
    "                p = j\n",
    "                k = i\n",
    "    print('品牌个性：' + str(p) + '\\n相似度：' + str(m) + '\\n关键词：' + str(k) +'\\n')\n"
   ]
  },
  {
   "cell_type": "code",
   "execution_count": null,
   "metadata": {},
   "outputs": [],
   "source": [
    "# 找均值\n",
    "def brandPersonalityMean(data):\n",
    "    dataNeed = (data[23] +' / '+ data[24] +' / '+ data[25]).split(' / ')\n",
    "    vector = 0\n",
    "    for i in dataNeed:\n",
    "        vector += embed([i])\n",
    "    vector = vector / len(dataNeed)\n",
    "\n",
    "    m = 0\n",
    "    p = 'test'\n",
    "    for i in personality:\n",
    "        per = embed([i])\n",
    "        similar = cos_sim(vector, per)\n",
    "        if similar > m:\n",
    "            m = similar\n",
    "            p = i\n",
    "\n",
    "    print('品牌个性：' + str(p) + '\\n相似度：' + str(m) +'\\n')"
   ]
  },
  {
   "cell_type": "code",
   "execution_count": null,
   "metadata": {},
   "outputs": [],
   "source": []
  }
 ]
}