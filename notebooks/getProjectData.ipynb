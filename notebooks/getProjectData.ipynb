{
 "metadata": {
  "language_info": {
   "codemirror_mode": {
    "name": "ipython",
    "version": 3
   },
   "file_extension": ".py",
   "mimetype": "text/x-python",
   "name": "python",
   "nbconvert_exporter": "python",
   "pygments_lexer": "ipython3",
   "version": "3.7.6-final"
  },
  "orig_nbformat": 2,
  "kernelspec": {
   "name": "python3",
   "display_name": "Python 3",
   "language": "python"
  }
 },
 "nbformat": 4,
 "nbformat_minor": 2,
 "cells": [
  {
   "cell_type": "code",
   "execution_count": 4,
   "metadata": {},
   "outputs": [],
   "source": [
    "import tkinter as tk \n",
    "import tkinter.messagebox\n",
    "sys.path.append(\"/opt/miniconda3/lib/python3.7/site-packages\") \n",
    "import pandas as pd\n",
    "import os\n",
    "import numpy as np\n",
    "import csv\n"
   ]
  },
  {
   "cell_type": "code",
   "execution_count": 5,
   "metadata": {},
   "outputs": [],
   "source": [
    "window = tk.Tk()\n",
    "window.title('get project information')\n",
    "window.geometry('1200x700') \n",
    "\n",
    "# create element\n",
    "lProjectName = tk.Label(window, text='项目名称（例：我每年的圣诞预告，都来自星巴克杯子）', bg='white', font=('Arial', 12), width=50, height=2)\n",
    "eProjectName = tk.Entry(window, show=None, font=('Arial', 14))\n",
    "lBrandName = tk.Label(window, text='品牌（例：星巴克）', bg='white', font=('Arial', 12), width=50, height=2)\n",
    "eBrandName = tk.Entry(window, show=None, font=('Arial', 14))\n",
    "lProjectLink = tk.Label(window, text='link（放项目链接）', bg='white', font=('Arial', 12), width=50, height=2)\n",
    "eProjectLink = tk.Entry(window, show=None, font=('Arial', 14))\n",
    "lProjectTime = tk.Label(window, text='项目时间（例：2020-2-2）', bg='white', font=('Arial', 12), width=50, height=2)\n",
    "eProjectTime = tk.Entry(window, show=None, font=('Arial', 14))\n",
    "lKeyword = tk.Label(window, text='关键词（圣诞节 / 节日 / 杯子）', bg='white', font=('Arial', 12), width=50, height=2)\n",
    "eKeyword = tk.Entry(window, show=None, font=('Arial', 14))\n",
    "lIntroduction = tk.Label(window, text='内容简介', bg='white', font=('Arial', 12), width=50, height=2)\n",
    "eIntroduction = tk.Entry(window, show=None, font=('Arial', 14))\n",
    "lImg = tk.Label(window, text='图片（放链接）', bg='white', font=('Arial', 12), width=50, height=2)\n",
    "eImg = tk.Entry(window, show=None, font=('Arial', 14))\n",
    "\n",
    "# the layout\n",
    "lProjectName.grid(row=1,column=1)\n",
    "eProjectName.grid(row=1,column=2)\n",
    "lBrandName.grid(row=2,column=1)\n",
    "eBrandName.grid(row=2,column=2)\n",
    "lProjectLink.grid(row=3,column=1)\n",
    "eProjectLink.grid(row=3,column=2)\n",
    "lProjectTime.grid(row=4,column=1)\n",
    "eProjectTime.grid(row=4,column=2)\n",
    "lKeyword.grid(row=5,column=1)\n",
    "eKeyword.grid(row=5,column=2)\n",
    "lIntroduction.grid(row=6,column=1)\n",
    "eIntroduction.grid(row=6,column=2)\n",
    "lImg.grid(row=7,column=1)\n",
    "eImg.grid(row=7,column=2)\n",
    "\n",
    "buttonOK = tk.Button(window, text='OK', width=10,\n",
    "               height=2, command=ok)\n",
    "buttonOK.grid(row=30,column=1)\n",
    "\n",
    "window.mainloop()"
   ]
  },
  {
   "cell_type": "code",
   "execution_count": 1,
   "metadata": {},
   "outputs": [],
   "source": [
    "ProjectName = BrandName = ProjectLink = ProjectTime = Keyword = Introduction = Img = ''\n",
    "\n",
    "def ok():   # 在文本框内容最后接着插入输入内容\n",
    "    ProjectName = eProjectName.get()\n",
    "    BrandName = eBrandName.get()\n",
    "    ProjectLink = eProjectLink.get()\n",
    "    ProjectTime = eProjectTime.get()\n",
    "    Keyword = eKeyword.get()\n",
    "    Introduction = eIntroduction.get()\n",
    "    Img = eImg.get()\n",
    "\n",
    "    tk.messagebox.showinfo(title='ok', message='成功添加一条数据')              # 提示信息对话窗\n",
    "\n",
    "\n",
    "    # add data to csv\n",
    "    path  = \"../data/projectInfo.csv\"\n",
    "    with open(path,'a+') as f:\n",
    "        csv_write = csv.writer(f)\n",
    "        data_row = [ProjectName,BrandName,ProjectLink,ProjectTime,Keyword,Introduction,Img]\n",
    "        csv_write.writerow(data_row)"
   ]
  },
  {
   "cell_type": "code",
   "execution_count": null,
   "metadata": {},
   "outputs": [],
   "source": []
  }
 ]
}